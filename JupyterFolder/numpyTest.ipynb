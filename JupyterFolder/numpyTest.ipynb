{
 "cells": [
  {
   "cell_type": "code",
   "execution_count": 1,
   "id": "0268cf28",
   "metadata": {},
   "outputs": [],
   "source": [
    "import numpy as np"
   ]
  },
  {
   "cell_type": "code",
   "execution_count": 3,
   "id": "92514d51",
   "metadata": {},
   "outputs": [],
   "source": [
    "# Numpy naturalmente é mais eficiente que o Python quando se trata\n",
    "# de lidar com números. Por mais que o mesmo pareça mais verboso em\n",
    "# determinados momentos. Ele chega a ter de 5 a 100 vezes mais eficiência.\n",
    "numpy_array = np.arange(0, 1_000 + 1, dtype='int64')\n",
    "\n",
    "# Python lento para estas operações e alocação de memória\n",
    "python_array = [i for i in range(1_000 + 1)]"
   ]
  },
  {
   "cell_type": "code",
   "execution_count": 4,
   "id": "e14eaf30",
   "metadata": {},
   "outputs": [],
   "source": [
    "# Entende naturalmente a sintaxe de i for i in X\n",
    "numpy_square = numpy_array**2\n",
    "\n",
    "# Ficou mais verboso que o numpy, por mais que inicialmente isto\n",
    "# pareça melhor de ler do que a opção anterior.\n",
    "python_square = [i**2 for i in python_array]"
   ]
  },
  {
   "cell_type": "code",
   "execution_count": 5,
   "id": "b3130263",
   "metadata": {},
   "outputs": [
    {
     "name": "stdout",
     "output_type": "stream",
     "text": [
      "Array com: [1 2 3 4 5], tendo elementos do tipo: int64 com tamanho de (5,)\n"
     ]
    }
   ],
   "source": [
    "arr = np.array([1, 2, 3, 4, 5])\n",
    "print(f\"Array com: {arr}, tendo elementos do tipo: {arr.dtype} com tamanho de {arr.shape}\")\n",
    "\n",
    "# As propriedades utilizadas se referem ao \"DataType\" e ao \"Formato do Array\"\n",
    "# Por ele ser somente um array em \"linha\", ele não possui o segundo número"
   ]
  },
  {
   "cell_type": "code",
   "execution_count": null,
   "id": "1cf8c2db",
   "metadata": {},
   "outputs": [],
   "source": [
    "# Não irei demonstrar aqui, mas todos os meios de recortar arrays em Python\n",
    "# utilizando [1:4:2], como [start:stop:step] continuam os mesmos."
   ]
  },
  {
   "cell_type": "code",
   "execution_count": 14,
   "id": "8e322b20",
   "metadata": {},
   "outputs": [
    {
     "name": "stdout",
     "output_type": "stream",
     "text": [
      "O formato da matriz é de (3, 3), três colunas e três linhas\n",
      "[[1. 2. 3.]\n",
      " [4. 5. 6.]\n",
      " [7. 8. 9.]]\n"
     ]
    }
   ],
   "source": [
    "# Criação de matrizes\n",
    "matrix = np.arange(1.,10.).reshape(3,3)\n",
    "print(f\"O formato da matriz é de {matrix.shape}, três colunas e três linhas\")\n",
    "print(matrix)"
   ]
  },
  {
   "cell_type": "code",
   "execution_count": 15,
   "id": "87ba1eec",
   "metadata": {},
   "outputs": [
    {
     "name": "stdout",
     "output_type": "stream",
     "text": [
      "[4. 5. 6.]\n",
      "[1. 4. 7.]\n"
     ]
    }
   ],
   "source": [
    "# Acessando a 2° linha do array\n",
    "matrix_line = matrix[1]\n",
    "\n",
    "# Acessando a 1° coluna\n",
    "matrix_column = matrix[:, 0] \n",
    "\n",
    "print(matrix_line)\n",
    "print(matrix_column)"
   ]
  },
  {
   "cell_type": "code",
   "execution_count": null,
   "id": "ba3ba423",
   "metadata": {},
   "outputs": [],
   "source": []
  }
 ],
 "metadata": {
  "kernelspec": {
   "display_name": "Python 3 (ipykernel)",
   "language": "python",
   "name": "python3"
  },
  "language_info": {
   "codemirror_mode": {
    "name": "ipython",
    "version": 3
   },
   "file_extension": ".py",
   "mimetype": "text/x-python",
   "name": "python",
   "nbconvert_exporter": "python",
   "pygments_lexer": "ipython3",
   "version": "3.9.12"
  }
 },
 "nbformat": 4,
 "nbformat_minor": 5
}
