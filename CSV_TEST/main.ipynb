{
 "cells": [
  {
   "cell_type": "code",
   "execution_count": 1,
   "id": "60bbf324",
   "metadata": {},
   "outputs": [],
   "source": [
    "import pandas as pd"
   ]
  },
  {
   "cell_type": "code",
   "execution_count": 2,
   "id": "163ed424",
   "metadata": {},
   "outputs": [],
   "source": [
    "# CSV File Path\n",
    "csv_path = \".//data.csv\""
   ]
  },
  {
   "cell_type": "code",
   "execution_count": 3,
   "id": "d59e2eb2",
   "metadata": {},
   "outputs": [
    {
     "name": "stdout",
     "output_type": "stream",
     "text": [
      "0    '2020/12/01'\n",
      "1    '2020/12/02'\n",
      "4    '2020/12/05'\n",
      "Name: Date, dtype: object\n"
     ]
    }
   ],
   "source": [
    "# CSV DataFrame Creation\n",
    "df = pd.read_csv(csv_path)\n",
    "\n",
    "# Drop NaN Values\n",
    "drop_df = df.dropna()\n",
    "\n",
    "# Show DataFrame Information \n",
    "# drop_df.info()\n",
    "\n",
    "# .loc show the rows that match the condition\n",
    "# print(drop_df.loc[drop_df['Pulse'] > 98])\n",
    "\n",
    "# print(drop_df)\n",
    "\n",
    "# print(df.sample(10))\n",
    "\n",
    "print(df.loc[df['Calories'] > 400, 'Date'])"
   ]
  },
  {
   "cell_type": "code",
   "execution_count": null,
   "id": "26a4f32b",
   "metadata": {},
   "outputs": [],
   "source": []
  }
 ],
 "metadata": {
  "kernelspec": {
   "display_name": "Python 3 (ipykernel)",
   "language": "python",
   "name": "python3"
  },
  "language_info": {
   "codemirror_mode": {
    "name": "ipython",
    "version": 3
   },
   "file_extension": ".py",
   "mimetype": "text/x-python",
   "name": "python",
   "nbconvert_exporter": "python",
   "pygments_lexer": "ipython3",
   "version": "3.9.12"
  }
 },
 "nbformat": 4,
 "nbformat_minor": 5
}
