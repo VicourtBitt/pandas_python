{
 "cells": [
  {
   "cell_type": "code",
   "execution_count": 36,
   "metadata": {},
   "outputs": [],
   "source": [
    "import pandas as pd\n",
    "import numpy as np\n",
    "import matplotlib\n",
    "import statistics"
   ]
  },
  {
   "cell_type": "code",
   "execution_count": 63,
   "metadata": {},
   "outputs": [
    {
     "data": {
      "text/html": [
       "<div>\n",
       "<style scoped>\n",
       "    .dataframe tbody tr th:only-of-type {\n",
       "        vertical-align: middle;\n",
       "    }\n",
       "\n",
       "    .dataframe tbody tr th {\n",
       "        vertical-align: top;\n",
       "    }\n",
       "\n",
       "    .dataframe thead th {\n",
       "        text-align: right;\n",
       "    }\n",
       "</style>\n",
       "<table border=\"1\" class=\"dataframe\">\n",
       "  <thead>\n",
       "    <tr style=\"text-align: right;\">\n",
       "      <th></th>\n",
       "      <th>name</th>\n",
       "      <th>gender</th>\n",
       "      <th>paid</th>\n",
       "      <th>isFiliated</th>\n",
       "      <th>state</th>\n",
       "      <th>date</th>\n",
       "      <th>plan</th>\n",
       "    </tr>\n",
       "    <tr>\n",
       "      <th>id</th>\n",
       "      <th></th>\n",
       "      <th></th>\n",
       "      <th></th>\n",
       "      <th></th>\n",
       "      <th></th>\n",
       "      <th></th>\n",
       "      <th></th>\n",
       "    </tr>\n",
       "  </thead>\n",
       "  <tbody>\n",
       "    <tr>\n",
       "      <th>1</th>\n",
       "      <td>Goofy Payne</td>\n",
       "      <td>Não-binário</td>\n",
       "      <td>623.73</td>\n",
       "      <td>True</td>\n",
       "      <td>SC</td>\n",
       "      <td>04-01-2024</td>\n",
       "      <td>Pro</td>\n",
       "    </tr>\n",
       "    <tr>\n",
       "      <th>2</th>\n",
       "      <td>Zen Mccarthy</td>\n",
       "      <td>Não-binário</td>\n",
       "      <td>827.08</td>\n",
       "      <td>False</td>\n",
       "      <td>PB</td>\n",
       "      <td>18-04-2021</td>\n",
       "      <td>Standard</td>\n",
       "    </tr>\n",
       "    <tr>\n",
       "      <th>3</th>\n",
       "      <td>Inspiring Hofstadter</td>\n",
       "      <td>Masculino</td>\n",
       "      <td>480.45</td>\n",
       "      <td>False</td>\n",
       "      <td>PI</td>\n",
       "      <td>05-01-2020</td>\n",
       "      <td>Free</td>\n",
       "    </tr>\n",
       "    <tr>\n",
       "      <th>4</th>\n",
       "      <td>Focused Gauss</td>\n",
       "      <td>Não-binário</td>\n",
       "      <td>623.07</td>\n",
       "      <td>True</td>\n",
       "      <td>PI</td>\n",
       "      <td>01-05-2020</td>\n",
       "      <td>Pro</td>\n",
       "    </tr>\n",
       "    <tr>\n",
       "      <th>5</th>\n",
       "      <td>Ecstatic Kilby</td>\n",
       "      <td>Masculino</td>\n",
       "      <td>813.21</td>\n",
       "      <td>False</td>\n",
       "      <td>GO</td>\n",
       "      <td>18-02-2022</td>\n",
       "      <td>Standard</td>\n",
       "    </tr>\n",
       "    <tr>\n",
       "      <th>...</th>\n",
       "      <td>...</td>\n",
       "      <td>...</td>\n",
       "      <td>...</td>\n",
       "      <td>...</td>\n",
       "      <td>...</td>\n",
       "      <td>...</td>\n",
       "      <td>...</td>\n",
       "    </tr>\n",
       "    <tr>\n",
       "      <th>996</th>\n",
       "      <td>Adoring Pasteur</td>\n",
       "      <td>Masculino</td>\n",
       "      <td>437.81</td>\n",
       "      <td>False</td>\n",
       "      <td>PA</td>\n",
       "      <td>30-11-2023</td>\n",
       "      <td>Free</td>\n",
       "    </tr>\n",
       "    <tr>\n",
       "      <th>997</th>\n",
       "      <td>Heuristic Cori</td>\n",
       "      <td>Masculino</td>\n",
       "      <td>539.48</td>\n",
       "      <td>True</td>\n",
       "      <td>PB</td>\n",
       "      <td>21-09-2024</td>\n",
       "      <td>Pro</td>\n",
       "    </tr>\n",
       "    <tr>\n",
       "      <th>998</th>\n",
       "      <td>Loving Cannon</td>\n",
       "      <td>Feminino</td>\n",
       "      <td>907.96</td>\n",
       "      <td>False</td>\n",
       "      <td>MS</td>\n",
       "      <td>03-06-2023</td>\n",
       "      <td>Standard</td>\n",
       "    </tr>\n",
       "    <tr>\n",
       "      <th>999</th>\n",
       "      <td>Magical Panini</td>\n",
       "      <td>Não-binário</td>\n",
       "      <td>218.76</td>\n",
       "      <td>True</td>\n",
       "      <td>DF</td>\n",
       "      <td>24-09-2020</td>\n",
       "      <td>Pro</td>\n",
       "    </tr>\n",
       "    <tr>\n",
       "      <th>1000</th>\n",
       "      <td>Intelligent Elbakyan</td>\n",
       "      <td>Não-binário</td>\n",
       "      <td>803.41</td>\n",
       "      <td>True</td>\n",
       "      <td>SP</td>\n",
       "      <td>09-11-2023</td>\n",
       "      <td>Pro</td>\n",
       "    </tr>\n",
       "  </tbody>\n",
       "</table>\n",
       "<p>951 rows × 7 columns</p>\n",
       "</div>"
      ],
      "text/plain": [
       "                      name       gender    paid  isFiliated state        date  \\\n",
       "id                                                                              \n",
       "1              Goofy Payne  Não-binário  623.73        True    SC  04-01-2024   \n",
       "2             Zen Mccarthy  Não-binário  827.08       False    PB  18-04-2021   \n",
       "3     Inspiring Hofstadter    Masculino  480.45       False    PI  05-01-2020   \n",
       "4            Focused Gauss  Não-binário  623.07        True    PI  01-05-2020   \n",
       "5           Ecstatic Kilby    Masculino  813.21       False    GO  18-02-2022   \n",
       "...                    ...          ...     ...         ...   ...         ...   \n",
       "996        Adoring Pasteur    Masculino  437.81       False    PA  30-11-2023   \n",
       "997         Heuristic Cori    Masculino  539.48        True    PB  21-09-2024   \n",
       "998          Loving Cannon     Feminino  907.96       False    MS  03-06-2023   \n",
       "999         Magical Panini  Não-binário  218.76        True    DF  24-09-2020   \n",
       "1000  Intelligent Elbakyan  Não-binário  803.41        True    SP  09-11-2023   \n",
       "\n",
       "          plan  \n",
       "id              \n",
       "1          Pro  \n",
       "2     Standard  \n",
       "3         Free  \n",
       "4          Pro  \n",
       "5     Standard  \n",
       "...        ...  \n",
       "996       Free  \n",
       "997        Pro  \n",
       "998   Standard  \n",
       "999        Pro  \n",
       "1000       Pro  \n",
       "\n",
       "[951 rows x 7 columns]"
      ]
     },
     "execution_count": 63,
     "metadata": {},
     "output_type": "execute_result"
    }
   ],
   "source": [
    "csv_path = 'cleaned_data_sample.csv'\n",
    "df = pd.read_csv(csv_path, index_col='id')\n",
    "df"
   ]
  },
  {
   "cell_type": "code",
   "execution_count": 59,
   "metadata": {},
   "outputs": [],
   "source": [
    "# A média da soma de todos os pagamentos\n",
    "media = df['paid'].mean()\n",
    "# statistics.mean(df['paid']) # Outra forma de calcular a média\n",
    "\n",
    "# A mediana da soma de todos os pagamentos organizados\n",
    "mediana = df['paid'].sort_values(ascending=False).median()\n",
    "# statistics.median(df['paid']) # Outra forma de calcular a mediana\n",
    "\n",
    "# A moda do estado, quanto um estado aparece mais vezes\n",
    "stateModa = df['state'].mode()\n",
    "# statistics.mode(df['state']) # Outra forma de calcular a moda"
   ]
  },
  {
   "cell_type": "code",
   "execution_count": 60,
   "metadata": {},
   "outputs": [
    {
     "data": {
      "text/plain": [
       "<AxesSubplot:title={'center':'Histograma de pagamentos'}, ylabel='Frequency'>"
      ]
     },
     "execution_count": 60,
     "metadata": {},
     "output_type": "execute_result"
    },
    {
     "data": {
      "image/png": "[encoded data removed]",
      "text/plain": [
       "<Figure size 432x288 with 1 Axes>"
      ]
     },
     "metadata": {
      "needs_background": "light"
     },
     "output_type": "display_data"
    }
   ],
   "source": [
    "# Analisar a tendência de pagamentos baseada no histograma de valores pagos\n",
    "df['paid'].plot(kind='hist', bins=50, title='Histograma de pagamentos')"
   ]
  },
  {
   "cell_type": "code",
   "execution_count": 61,
   "metadata": {},
   "outputs": [
    {
     "data": {
      "text/plain": [
       "<AxesSubplot:>"
      ]
     },
     "execution_count": 61,
     "metadata": {},
     "output_type": "execute_result"
    },
    {
     "data": {
      "image/png": "[encoded data removed]",
      "text/plain": [
       "<Figure size 432x360 with 1 Axes>"
      ]
     },
     "metadata": {
      "needs_background": "light"
     },
     "output_type": "display_data"
    }
   ],
   "source": [
    "# Analisar a tendência dos planos baseado no histograma de planos obtidos\n",
    "df['plan'].hist(figsize=(6, 5), bins=10, color='blue', alpha=0.5)"
   ]
  },
  {
   "cell_type": "code",
   "execution_count": 92,
   "metadata": {},
   "outputs": [
    {
     "data": {
      "text/plain": [
       "<AxesSubplot:title={'center':'Estados com mais registros'}, xlabel='Estados', ylabel='Quantidade de registros'>"
      ]
     },
     "execution_count": 92,
     "metadata": {},
     "output_type": "execute_result"
    },
    {
     "data": {
      "image/png": "[encoded data removed]",
      "text/plain": [
       "<Figure size 1440x432 with 1 Axes>"
      ]
     },
     "metadata": {
      "needs_background": "light"
     },
     "output_type": "display_data"
    }
   ],
   "source": [
    "# Analisar a quantidade de pessoas pagantes por estado em um gráfico de barras\n",
    "states = df['state'].value_counts().head(10)\n",
    "\n",
    "states.plot(kind='bar', figsize=(20, 6), color='green', alpha=0.5,legend=True, title='Estados com mais registros', ylabel='Quantidade de registros', xlabel='Estados', grid=True)"
   ]
  },
  {
   "cell_type": "code",
   "execution_count": 104,
   "metadata": {},
   "outputs": [],
   "source": [
    "# Aqui nós calculamos as medias e desvios padrões dos pagamentos\n",
    "meanPaid = statistics.mean(df['paid']) # Média\n",
    "# df['paid'].mean() # Outra forma de calcular a média\n",
    "\n",
    "deviancePaid = statistics.stdev(df['paid']) # Desvio padrão\n",
    "# df['paid'].std() # Outra forma de calcular o desvio padrão"
   ]
  },
  {
   "cell_type": "code",
   "execution_count": null,
   "metadata": {},
   "outputs": [],
   "source": [
    "# Aqui vemos a média e o desvio padrão dos pagamentos, mostrando os números\n",
    "# que estão dentro dos resultados usuais e padrões\n",
    "meanPaid - deviancePaid, meanPaid + deviancePaid\n"
   ]
  },
  {
   "cell_type": "code",
   "execution_count": 98,
   "metadata": {},
   "outputs": [
    {
     "data": {
      "text/plain": [
       "(-629.1218173335662, 2605.5623641264156)"
      ]
     },
     "execution_count": 98,
     "metadata": {},
     "output_type": "execute_result"
    }
   ],
   "source": [
    "# Aqui vemos o desvio padrão relacionado a anomalias, mostrando os números\n",
    "# que estão fora dos resultados usuais e padrões\n",
    "meanPaid - 2 * deviancePaid, meanPaid + 2 * deviancePaid"
   ]
  },
  {
   "cell_type": "code",
   "execution_count": 101,
   "metadata": {},
   "outputs": [
    {
     "data": {
      "text/plain": [
       "808.6710453649955"
      ]
     },
     "execution_count": 101,
     "metadata": {},
     "output_type": "execute_result"
    }
   ],
   "source": []
  }
 ],
 "metadata": {
  "kernelspec": {
   "display_name": "base",
   "language": "python",
   "name": "python3"
  },
  "language_info": {
   "codemirror_mode": {
    "name": "ipython",
    "version": 3
   },
   "file_extension": ".py",
   "mimetype": "text/x-python",
   "name": "python",
   "nbconvert_exporter": "python",
   "pygments_lexer": "ipython3",
   "version": "3.9.12"
  }
 },
 "nbformat": 4,
 "nbformat_minor": 2
}
