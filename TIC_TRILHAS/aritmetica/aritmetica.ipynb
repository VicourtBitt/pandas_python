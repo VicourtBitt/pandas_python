{
 "cells": [
  {
   "cell_type": "code",
   "execution_count": 1,
   "metadata": {},
   "outputs": [],
   "source": [
    "import pandas as pd\n",
    "import numpy as np\n",
    "import matplotlib\n",
    "import statistics"
   ]
  },
  {
   "cell_type": "code",
   "execution_count": 2,
   "metadata": {},
   "outputs": [
    {
     "data": {
      "text/html": [
       "<div>\n",
       "<style scoped>\n",
       "    .dataframe tbody tr th:only-of-type {\n",
       "        vertical-align: middle;\n",
       "    }\n",
       "\n",
       "    .dataframe tbody tr th {\n",
       "        vertical-align: top;\n",
       "    }\n",
       "\n",
       "    .dataframe thead th {\n",
       "        text-align: right;\n",
       "    }\n",
       "</style>\n",
       "<table border=\"1\" class=\"dataframe\">\n",
       "  <thead>\n",
       "    <tr style=\"text-align: right;\">\n",
       "      <th></th>\n",
       "      <th>name</th>\n",
       "      <th>gender</th>\n",
       "      <th>paid</th>\n",
       "      <th>isFiliated</th>\n",
       "      <th>state</th>\n",
       "      <th>date</th>\n",
       "      <th>plan</th>\n",
       "    </tr>\n",
       "    <tr>\n",
       "      <th>id</th>\n",
       "      <th></th>\n",
       "      <th></th>\n",
       "      <th></th>\n",
       "      <th></th>\n",
       "      <th></th>\n",
       "      <th></th>\n",
       "      <th></th>\n",
       "    </tr>\n",
       "  </thead>\n",
       "  <tbody>\n",
       "    <tr>\n",
       "      <th>1</th>\n",
       "      <td>Goofy Payne</td>\n",
       "      <td>Não-binário</td>\n",
       "      <td>623.73</td>\n",
       "      <td>True</td>\n",
       "      <td>SC</td>\n",
       "      <td>04-01-2024</td>\n",
       "      <td>Pro</td>\n",
       "    </tr>\n",
       "    <tr>\n",
       "      <th>2</th>\n",
       "      <td>Zen Mccarthy</td>\n",
       "      <td>Não-binário</td>\n",
       "      <td>827.08</td>\n",
       "      <td>False</td>\n",
       "      <td>PB</td>\n",
       "      <td>18-04-2021</td>\n",
       "      <td>Standard</td>\n",
       "    </tr>\n",
       "    <tr>\n",
       "      <th>3</th>\n",
       "      <td>Inspiring Hofstadter</td>\n",
       "      <td>Masculino</td>\n",
       "      <td>480.45</td>\n",
       "      <td>False</td>\n",
       "      <td>PI</td>\n",
       "      <td>05-01-2020</td>\n",
       "      <td>Free</td>\n",
       "    </tr>\n",
       "    <tr>\n",
       "      <th>4</th>\n",
       "      <td>Focused Gauss</td>\n",
       "      <td>Não-binário</td>\n",
       "      <td>623.07</td>\n",
       "      <td>True</td>\n",
       "      <td>PI</td>\n",
       "      <td>01-05-2020</td>\n",
       "      <td>Pro</td>\n",
       "    </tr>\n",
       "    <tr>\n",
       "      <th>5</th>\n",
       "      <td>Ecstatic Kilby</td>\n",
       "      <td>Masculino</td>\n",
       "      <td>813.21</td>\n",
       "      <td>False</td>\n",
       "      <td>GO</td>\n",
       "      <td>18-02-2022</td>\n",
       "      <td>Standard</td>\n",
       "    </tr>\n",
       "    <tr>\n",
       "      <th>...</th>\n",
       "      <td>...</td>\n",
       "      <td>...</td>\n",
       "      <td>...</td>\n",
       "      <td>...</td>\n",
       "      <td>...</td>\n",
       "      <td>...</td>\n",
       "      <td>...</td>\n",
       "    </tr>\n",
       "    <tr>\n",
       "      <th>996</th>\n",
       "      <td>Adoring Pasteur</td>\n",
       "      <td>Masculino</td>\n",
       "      <td>437.81</td>\n",
       "      <td>False</td>\n",
       "      <td>PA</td>\n",
       "      <td>30-11-2023</td>\n",
       "      <td>Free</td>\n",
       "    </tr>\n",
       "    <tr>\n",
       "      <th>997</th>\n",
       "      <td>Heuristic Cori</td>\n",
       "      <td>Masculino</td>\n",
       "      <td>539.48</td>\n",
       "      <td>True</td>\n",
       "      <td>PB</td>\n",
       "      <td>21-09-2024</td>\n",
       "      <td>Pro</td>\n",
       "    </tr>\n",
       "    <tr>\n",
       "      <th>998</th>\n",
       "      <td>Loving Cannon</td>\n",
       "      <td>Feminino</td>\n",
       "      <td>907.96</td>\n",
       "      <td>False</td>\n",
       "      <td>MS</td>\n",
       "      <td>03-06-2023</td>\n",
       "      <td>Standard</td>\n",
       "    </tr>\n",
       "    <tr>\n",
       "      <th>999</th>\n",
       "      <td>Magical Panini</td>\n",
       "      <td>Não-binário</td>\n",
       "      <td>218.76</td>\n",
       "      <td>True</td>\n",
       "      <td>DF</td>\n",
       "      <td>24-09-2020</td>\n",
       "      <td>Pro</td>\n",
       "    </tr>\n",
       "    <tr>\n",
       "      <th>1000</th>\n",
       "      <td>Intelligent Elbakyan</td>\n",
       "      <td>Não-binário</td>\n",
       "      <td>803.41</td>\n",
       "      <td>True</td>\n",
       "      <td>SP</td>\n",
       "      <td>09-11-2023</td>\n",
       "      <td>Pro</td>\n",
       "    </tr>\n",
       "  </tbody>\n",
       "</table>\n",
       "<p>951 rows × 7 columns</p>\n",
       "</div>"
      ],
      "text/plain": [
       "                      name       gender    paid  isFiliated state        date  \\\n",
       "id                                                                              \n",
       "1              Goofy Payne  Não-binário  623.73        True    SC  04-01-2024   \n",
       "2             Zen Mccarthy  Não-binário  827.08       False    PB  18-04-2021   \n",
       "3     Inspiring Hofstadter    Masculino  480.45       False    PI  05-01-2020   \n",
       "4            Focused Gauss  Não-binário  623.07        True    PI  01-05-2020   \n",
       "5           Ecstatic Kilby    Masculino  813.21       False    GO  18-02-2022   \n",
       "...                    ...          ...     ...         ...   ...         ...   \n",
       "996        Adoring Pasteur    Masculino  437.81       False    PA  30-11-2023   \n",
       "997         Heuristic Cori    Masculino  539.48        True    PB  21-09-2024   \n",
       "998          Loving Cannon     Feminino  907.96       False    MS  03-06-2023   \n",
       "999         Magical Panini  Não-binário  218.76        True    DF  24-09-2020   \n",
       "1000  Intelligent Elbakyan  Não-binário  803.41        True    SP  09-11-2023   \n",
       "\n",
       "          plan  \n",
       "id              \n",
       "1          Pro  \n",
       "2     Standard  \n",
       "3         Free  \n",
       "4          Pro  \n",
       "5     Standard  \n",
       "...        ...  \n",
       "996       Free  \n",
       "997        Pro  \n",
       "998   Standard  \n",
       "999        Pro  \n",
       "1000       Pro  \n",
       "\n",
       "[951 rows x 7 columns]"
      ]
     },
     "execution_count": 2,
     "metadata": {},
     "output_type": "execute_result"
    }
   ],
   "source": [
    "csv_path = 'cleaned_data_sample.csv'\n",
    "df = pd.read_csv(csv_path, index_col='id')\n",
    "df"
   ]
  },
  {
   "cell_type": "code",
   "execution_count": 3,
   "metadata": {},
   "outputs": [],
   "source": [
    "# A média da soma de todos os pagamentos\n",
    "media = df['paid'].mean()\n",
    "# statistics.mean(df['paid']) # Outra forma de calcular a média\n",
    "\n",
    "# A mediana da soma de todos os pagamentos organizados\n",
    "mediana = df['paid'].sort_values(ascending=False).median()\n",
    "# statistics.median(df['paid']) # Outra forma de calcular a mediana\n",
    "\n",
    "# A moda do estado, quanto um estado aparece mais vezes\n",
    "stateModa = df['state'].mode()\n",
    "# statistics.mode(df['state']) # Outra forma de calcular a moda"
   ]
  },
  {
   "cell_type": "code",
   "execution_count": 4,
   "metadata": {},
   "outputs": [
    {
     "data": {
      "text/plain": [
       "<AxesSubplot:title={'center':'Histograma de pagamentos'}, ylabel='Frequency'>"
      ]
     },
     "execution_count": 4,
     "metadata": {},
     "output_type": "execute_result"
    },
    {
     "data": {
      "image/png": "[encoded data removed]",
      "text/plain": [
       "<Figure size 432x288 with 1 Axes>"
      ]
     },
     "metadata": {
      "needs_background": "light"
     },
     "output_type": "display_data"
    }
   ],
   "source": [
    "# Analisar a tendência de pagamentos baseada no histograma de valores pagos\n",
    "df['paid'].plot(kind='hist', bins=50, title='Histograma de pagamentos')"
   ]
  },
  {
   "cell_type": "code",
   "execution_count": null,
   "metadata": {},
   "outputs": [
    {
     "name": "stderr",
     "output_type": "stream",
     "text": [
      "/home/real/anaconda3/lib/python3.9/site-packages/pandas/core/arraylike.py:52: UserWarning: Parsing '31-12-2024' in DD/MM/YYYY format. Provide format or specify infer_datetime_format=True for consistent parsing.\n",
      "  return self._cmp_method(other, operator.le)\n"
     ]
    }
   ],
   "source": [
    "# Convertendo formato de data para datetime, assim podemos fazer comparações de datas\n",
    "df['date'] = pd.to_datetime(df['date'], format='%D/%M/%Y', infer_datetime_format=True)\n",
    "\n",
    "# Pegando todos os pagamentos realizados em 2024\n",
    "df2024 = df.loc[\n",
    "    (df['date'] >= '01-01-2024')\n",
    "    & \n",
    "    (df['date'] <= '31-12-2024')\n",
    "]\n",
    "\n",
    "# Calculando a média e o desvio padrão dos pagamentos realizados em 2024.\n",
    "mean2024 = df2024['paid'].mean()\n",
    "std2024 = df2024['paid'].std()"
   ]
  },
  {
   "cell_type": "code",
   "execution_count": null,
   "metadata": {},
   "outputs": [
    {
     "data": {
      "text/plain": [
       "<AxesSubplot:title={'center':'Pagamentos realizados em 2024'}, xlabel='date'>"
      ]
     },
     "execution_count": 7,
     "metadata": {},
     "output_type": "execute_result"
    },
    {
     "data": {
      "image/png": "[encoded data removed]",
      "text/plain": [
       "<Figure size 1440x360 with 1 Axes>"
      ]
     },
     "metadata": {
      "needs_background": "light"
     },
     "output_type": "display_data"
    }
   ],
   "source": [
    "df2024.plot(x='date', y='paid', kind='line', title='Pagamentos realizados em 2024', figsize=(20, 5))"
   ]
  },
  {
   "cell_type": "code",
   "execution_count": null,
   "metadata": {},
   "outputs": [
    {
     "data": {
      "text/plain": [
       "<AxesSubplot:title={'center':'Pagamentos dentro da variância por gênero'}>"
      ]
     },
     "execution_count": 56,
     "metadata": {},
     "output_type": "execute_result"
    },
    {
     "data": {
      "image/png": "[encoded data removed]",
      "text/plain": [
       "<Figure size 432x288 with 1 Axes>"
      ]
     },
     "metadata": {
      "needs_background": "light"
     },
     "output_type": "display_data"
    }
   ],
   "source": [
    "# Pagamentos que estão fora do padrão\n",
    "df2024off = df2024.loc[\n",
    "    df2024['paid'] > mean2024 + std2024\n",
    "]\n",
    "\n",
    "# Ordenando os pagamentos fora do padrão porgenero\n",
    "df2024off['gender'].value_counts().plot(kind='barh', title='Pagamentos dentro da variância por gênero')"
   ]
  },
  {
   "cell_type": "code",
   "execution_count": null,
   "metadata": {},
   "outputs": [
    {
     "data": {
      "text/html": [
       "<div>\n",
       "<style scoped>\n",
       "    .dataframe tbody tr th:only-of-type {\n",
       "        vertical-align: middle;\n",
       "    }\n",
       "\n",
       "    .dataframe tbody tr th {\n",
       "        vertical-align: top;\n",
       "    }\n",
       "\n",
       "    .dataframe thead th {\n",
       "        text-align: right;\n",
       "    }\n",
       "</style>\n",
       "<table border=\"1\" class=\"dataframe\">\n",
       "  <thead>\n",
       "    <tr style=\"text-align: right;\">\n",
       "      <th></th>\n",
       "      <th>name</th>\n",
       "      <th>gender</th>\n",
       "      <th>paid</th>\n",
       "      <th>isFiliated</th>\n",
       "      <th>state</th>\n",
       "      <th>date</th>\n",
       "      <th>plan</th>\n",
       "    </tr>\n",
       "    <tr>\n",
       "      <th>id</th>\n",
       "      <th></th>\n",
       "      <th></th>\n",
       "      <th></th>\n",
       "      <th></th>\n",
       "      <th></th>\n",
       "      <th></th>\n",
       "      <th></th>\n",
       "    </tr>\n",
       "  </thead>\n",
       "  <tbody>\n",
       "    <tr>\n",
       "      <th>175</th>\n",
       "      <td>Vibrant Meitner</td>\n",
       "      <td>Feminino</td>\n",
       "      <td>2890.78</td>\n",
       "      <td>False</td>\n",
       "      <td>PB</td>\n",
       "      <td>2024-06-03</td>\n",
       "      <td>Pro</td>\n",
       "    </tr>\n",
       "    <tr>\n",
       "      <th>237</th>\n",
       "      <td>Stupefied Panini</td>\n",
       "      <td>Feminino</td>\n",
       "      <td>2242.01</td>\n",
       "      <td>False</td>\n",
       "      <td>SP</td>\n",
       "      <td>2024-06-06</td>\n",
       "      <td>Pro</td>\n",
       "    </tr>\n",
       "    <tr>\n",
       "      <th>109</th>\n",
       "      <td>Blissful Hugle</td>\n",
       "      <td>Feminino</td>\n",
       "      <td>2187.49</td>\n",
       "      <td>False</td>\n",
       "      <td>RR</td>\n",
       "      <td>2024-06-07</td>\n",
       "      <td>Pro</td>\n",
       "    </tr>\n",
       "    <tr>\n",
       "      <th>829</th>\n",
       "      <td>Vibrant Bhaskara</td>\n",
       "      <td>Feminino</td>\n",
       "      <td>2377.17</td>\n",
       "      <td>False</td>\n",
       "      <td>RS</td>\n",
       "      <td>2024-06-27</td>\n",
       "      <td>Pro</td>\n",
       "    </tr>\n",
       "    <tr>\n",
       "      <th>482</th>\n",
       "      <td>Dreamy Roentgen</td>\n",
       "      <td>Feminino</td>\n",
       "      <td>2968.62</td>\n",
       "      <td>False</td>\n",
       "      <td>BA</td>\n",
       "      <td>2024-06-28</td>\n",
       "      <td>Pro</td>\n",
       "    </tr>\n",
       "  </tbody>\n",
       "</table>\n",
       "</div>"
      ],
      "text/plain": [
       "                 name    gender     paid  isFiliated state       date plan\n",
       "id                                                                        \n",
       "175   Vibrant Meitner  Feminino  2890.78       False    PB 2024-06-03  Pro\n",
       "237  Stupefied Panini  Feminino  2242.01       False    SP 2024-06-06  Pro\n",
       "109    Blissful Hugle  Feminino  2187.49       False    RR 2024-06-07  Pro\n",
       "829  Vibrant Bhaskara  Feminino  2377.17       False    RS 2024-06-27  Pro\n",
       "482   Dreamy Roentgen  Feminino  2968.62       False    BA 2024-06-28  Pro"
      ]
     },
     "execution_count": 55,
     "metadata": {},
     "output_type": "execute_result"
    }
   ],
   "source": [
    "# Simulando a visualização de uma campanha de marketing para mulheres\n",
    "# e quais delas investiram/pagaram mais nesse período\n",
    "df2024off.loc[\n",
    "    (df2024['gender'] == 'Feminino')\n",
    "    &\n",
    "    (df2024['date'] >= '2024-06-01')\n",
    "    &\n",
    "    (df2024['date'] <= '2024-07-01')\n",
    "].sort_values(by='date')\n",
    "\n",
    "# Se fossemos analisar isto baseado nas ultimas informações, poderiamos\n",
    "# sugerir que, no ano de 2024, as mulheres tiveram um poder de compra maior\n",
    "# em relação ao resto do público"
   ]
  },
  {
   "cell_type": "code",
   "execution_count": null,
   "metadata": {},
   "outputs": [
    {
     "data": {
      "text/plain": [
       "2504.194210526316"
      ]
     },
     "execution_count": 65,
     "metadata": {},
     "output_type": "execute_result"
    }
   ],
   "source": [
    "woman2024 = df2024.loc[\n",
    "    (df2024['gender'] == 'Feminino')\n",
    "]\n",
    "\n",
    "offWoman2024 = woman2024.loc[\n",
    "    woman2024['paid'] > mean2024 + std2024\n",
    "]\n",
    "\n",
    "meanWoman2024 = offWoman2024['paid'].mean()\n",
    "meanWoman2024"
   ]
  },
  {
   "cell_type": "code",
   "execution_count": null,
   "metadata": {},
   "outputs": [
    {
     "data": {
      "text/plain": [
       "2256.159"
      ]
     },
     "execution_count": 66,
     "metadata": {},
     "output_type": "execute_result"
    }
   ],
   "source": [
    "man2024 = df2024.loc[\n",
    "    (df2024['gender'] == 'Masculino')\n",
    "]\n",
    "\n",
    "offMan2024 = man2024.loc[\n",
    "    man2024['paid'] > mean2024 + std2024\n",
    "]\n",
    "\n",
    "meanMan2024 = offMan2024['paid'].mean()\n",
    "meanMan2024"
   ]
  },
  {
   "cell_type": "code",
   "execution_count": null,
   "metadata": {},
   "outputs": [
    {
     "data": {
      "text/plain": [
       "2354.3289999999997"
      ]
     },
     "execution_count": 81,
     "metadata": {},
     "output_type": "execute_result"
    }
   ],
   "source": [
    "nb2024 = df2024.loc[\n",
    "    (df2024['gender'] == 'Não-binário')\n",
    "]\n",
    "\n",
    "offNb2024 = nb2024.loc[\n",
    "    nb2024['paid'] > mean2024 + std2024\n",
    "]\n",
    "\n",
    "meanNb2024 = offNb2024['paid'].mean()\n",
    "meanNb2024"
   ]
  },
  {
   "cell_type": "code",
   "execution_count": null,
   "metadata": {},
   "outputs": [
    {
     "data": {
      "text/plain": [
       "<AxesSubplot:title={'center':'Poder de compra médio acima da média por gênero em 2024'}>"
      ]
     },
     "execution_count": 82,
     "metadata": {},
     "output_type": "execute_result"
    },
    {
     "data": {
      "image/png": "[encoded data removed]",
      "text/plain": [
       "<Figure size 720x360 with 1 Axes>"
      ]
     },
     "metadata": {
      "needs_background": "light"
     },
     "output_type": "display_data"
    }
   ],
   "source": [
    "mean2024All = pd.DataFrame({\n",
    "    'Feminino': meanWoman2024,\n",
    "    'Masculino': meanMan2024,\n",
    "    'Não-binário': meanNb2024\n",
    "}, index=[0])\n",
    "\n",
    "mean2024All.plot(kind='bar', title='Poder de compra médio acima da média por gênero em 2024', figsize=(10, 5))\n",
    "# Com base nesses dados, podemos sugerir que as mulheres tiveram um poder de compra maior em 2024\n",
    "# Deixando o público 'Não-binário' em segundo lugar e o público 'Masculino' em terceiro"
   ]
  },
  {
   "cell_type": "code",
   "execution_count": null,
   "metadata": {},
   "outputs": [
    {
     "data": {
      "text/html": [
       "<div>\n",
       "<style scoped>\n",
       "    .dataframe tbody tr th:only-of-type {\n",
       "        vertical-align: middle;\n",
       "    }\n",
       "\n",
       "    .dataframe tbody tr th {\n",
       "        vertical-align: top;\n",
       "    }\n",
       "\n",
       "    .dataframe thead th {\n",
       "        text-align: right;\n",
       "    }\n",
       "</style>\n",
       "<table border=\"1\" class=\"dataframe\">\n",
       "  <thead>\n",
       "    <tr style=\"text-align: right;\">\n",
       "      <th></th>\n",
       "      <th>name</th>\n",
       "      <th>gender</th>\n",
       "      <th>paid</th>\n",
       "      <th>isFiliated</th>\n",
       "      <th>state</th>\n",
       "      <th>date</th>\n",
       "      <th>plan</th>\n",
       "    </tr>\n",
       "    <tr>\n",
       "      <th>id</th>\n",
       "      <th></th>\n",
       "      <th></th>\n",
       "      <th></th>\n",
       "      <th></th>\n",
       "      <th></th>\n",
       "      <th></th>\n",
       "      <th></th>\n",
       "    </tr>\n",
       "  </thead>\n",
       "  <tbody>\n",
       "    <tr>\n",
       "      <th>62</th>\n",
       "      <td>Festive Bassi</td>\n",
       "      <td>Não-binário</td>\n",
       "      <td>2452.81</td>\n",
       "      <td>False</td>\n",
       "      <td>MS</td>\n",
       "      <td>2024-12-26</td>\n",
       "      <td>Pro</td>\n",
       "    </tr>\n",
       "    <tr>\n",
       "      <th>756</th>\n",
       "      <td>Vigorous Chatelet</td>\n",
       "      <td>Masculino</td>\n",
       "      <td>2374.67</td>\n",
       "      <td>False</td>\n",
       "      <td>AM</td>\n",
       "      <td>2024-12-03</td>\n",
       "      <td>Pro</td>\n",
       "    </tr>\n",
       "    <tr>\n",
       "      <th>698</th>\n",
       "      <td>Goofy Mendeleev</td>\n",
       "      <td>Não-binário</td>\n",
       "      <td>1872.17</td>\n",
       "      <td>False</td>\n",
       "      <td>RO</td>\n",
       "      <td>2024-12-01</td>\n",
       "      <td>Pro</td>\n",
       "    </tr>\n",
       "    <tr>\n",
       "      <th>373</th>\n",
       "      <td>Hopeful Shirley</td>\n",
       "      <td>Masculino</td>\n",
       "      <td>2480.56</td>\n",
       "      <td>True</td>\n",
       "      <td>TO</td>\n",
       "      <td>2024-11-17</td>\n",
       "      <td>Premium</td>\n",
       "    </tr>\n",
       "    <tr>\n",
       "      <th>541</th>\n",
       "      <td>Interesting Tereshkova</td>\n",
       "      <td>Feminino</td>\n",
       "      <td>2585.35</td>\n",
       "      <td>False</td>\n",
       "      <td>SP</td>\n",
       "      <td>2024-11-16</td>\n",
       "      <td>Pro</td>\n",
       "    </tr>\n",
       "    <tr>\n",
       "      <th>310</th>\n",
       "      <td>Nervous Mirzakhani</td>\n",
       "      <td>Feminino</td>\n",
       "      <td>2709.81</td>\n",
       "      <td>True</td>\n",
       "      <td>RJ</td>\n",
       "      <td>2024-11-12</td>\n",
       "      <td>Premium</td>\n",
       "    </tr>\n",
       "    <tr>\n",
       "      <th>362</th>\n",
       "      <td>Beautiful Meitner</td>\n",
       "      <td>Masculino</td>\n",
       "      <td>2944.91</td>\n",
       "      <td>False</td>\n",
       "      <td>PI</td>\n",
       "      <td>2024-10-18</td>\n",
       "      <td>Pro</td>\n",
       "    </tr>\n",
       "    <tr>\n",
       "      <th>688</th>\n",
       "      <td>Sad Pike</td>\n",
       "      <td>Feminino</td>\n",
       "      <td>2026.38</td>\n",
       "      <td>True</td>\n",
       "      <td>CE</td>\n",
       "      <td>2024-10-15</td>\n",
       "      <td>Premium</td>\n",
       "    </tr>\n",
       "    <tr>\n",
       "      <th>442</th>\n",
       "      <td>Vigilant Leakey</td>\n",
       "      <td>Não-binário</td>\n",
       "      <td>2190.30</td>\n",
       "      <td>False</td>\n",
       "      <td>GO</td>\n",
       "      <td>2024-10-11</td>\n",
       "      <td>Pro</td>\n",
       "    </tr>\n",
       "    <tr>\n",
       "      <th>686</th>\n",
       "      <td>Nice Hypatia</td>\n",
       "      <td>Feminino</td>\n",
       "      <td>2945.13</td>\n",
       "      <td>True</td>\n",
       "      <td>TO</td>\n",
       "      <td>2024-10-10</td>\n",
       "      <td>Premium</td>\n",
       "    </tr>\n",
       "    <tr>\n",
       "      <th>950</th>\n",
       "      <td>Sweet Pike</td>\n",
       "      <td>Feminino</td>\n",
       "      <td>1832.16</td>\n",
       "      <td>True</td>\n",
       "      <td>ES</td>\n",
       "      <td>2024-09-28</td>\n",
       "      <td>Premium</td>\n",
       "    </tr>\n",
       "    <tr>\n",
       "      <th>693</th>\n",
       "      <td>Brave Ride</td>\n",
       "      <td>Feminino</td>\n",
       "      <td>1830.44</td>\n",
       "      <td>True</td>\n",
       "      <td>SC</td>\n",
       "      <td>2024-09-12</td>\n",
       "      <td>Premium</td>\n",
       "    </tr>\n",
       "    <tr>\n",
       "      <th>183</th>\n",
       "      <td>Youthful Cerf</td>\n",
       "      <td>Feminino</td>\n",
       "      <td>2803.42</td>\n",
       "      <td>False</td>\n",
       "      <td>BA</td>\n",
       "      <td>2024-09-04</td>\n",
       "      <td>Pro</td>\n",
       "    </tr>\n",
       "    <tr>\n",
       "      <th>160</th>\n",
       "      <td>Beautiful Jennings</td>\n",
       "      <td>Não-binário</td>\n",
       "      <td>1875.68</td>\n",
       "      <td>True</td>\n",
       "      <td>RO</td>\n",
       "      <td>2024-08-23</td>\n",
       "      <td>Premium</td>\n",
       "    </tr>\n",
       "    <tr>\n",
       "      <th>176</th>\n",
       "      <td>Stoic Tharp</td>\n",
       "      <td>Feminino</td>\n",
       "      <td>2390.95</td>\n",
       "      <td>False</td>\n",
       "      <td>MG</td>\n",
       "      <td>2024-08-17</td>\n",
       "      <td>Pro</td>\n",
       "    </tr>\n",
       "    <tr>\n",
       "      <th>884</th>\n",
       "      <td>Stupefied Tharp</td>\n",
       "      <td>Feminino</td>\n",
       "      <td>2377.37</td>\n",
       "      <td>False</td>\n",
       "      <td>PI</td>\n",
       "      <td>2024-08-10</td>\n",
       "      <td>Pro</td>\n",
       "    </tr>\n",
       "    <tr>\n",
       "      <th>92</th>\n",
       "      <td>Affectionate Tharp</td>\n",
       "      <td>Feminino</td>\n",
       "      <td>2956.63</td>\n",
       "      <td>False</td>\n",
       "      <td>CE</td>\n",
       "      <td>2024-08-06</td>\n",
       "      <td>Pro</td>\n",
       "    </tr>\n",
       "    <tr>\n",
       "      <th>837</th>\n",
       "      <td>Sleepy Mahavira</td>\n",
       "      <td>Feminino</td>\n",
       "      <td>2289.36</td>\n",
       "      <td>False</td>\n",
       "      <td>MS</td>\n",
       "      <td>2024-07-29</td>\n",
       "      <td>Pro</td>\n",
       "    </tr>\n",
       "    <tr>\n",
       "      <th>419</th>\n",
       "      <td>Trusting Mendel</td>\n",
       "      <td>Feminino</td>\n",
       "      <td>2975.24</td>\n",
       "      <td>False</td>\n",
       "      <td>PE</td>\n",
       "      <td>2024-07-29</td>\n",
       "      <td>Pro</td>\n",
       "    </tr>\n",
       "    <tr>\n",
       "      <th>347</th>\n",
       "      <td>Sad Noyce</td>\n",
       "      <td>Masculino</td>\n",
       "      <td>2535.35</td>\n",
       "      <td>False</td>\n",
       "      <td>PE</td>\n",
       "      <td>2024-07-12</td>\n",
       "      <td>Pro</td>\n",
       "    </tr>\n",
       "    <tr>\n",
       "      <th>482</th>\n",
       "      <td>Dreamy Roentgen</td>\n",
       "      <td>Feminino</td>\n",
       "      <td>2968.62</td>\n",
       "      <td>False</td>\n",
       "      <td>BA</td>\n",
       "      <td>2024-06-28</td>\n",
       "      <td>Pro</td>\n",
       "    </tr>\n",
       "    <tr>\n",
       "      <th>829</th>\n",
       "      <td>Vibrant Bhaskara</td>\n",
       "      <td>Feminino</td>\n",
       "      <td>2377.17</td>\n",
       "      <td>False</td>\n",
       "      <td>RS</td>\n",
       "      <td>2024-06-27</td>\n",
       "      <td>Pro</td>\n",
       "    </tr>\n",
       "    <tr>\n",
       "      <th>569</th>\n",
       "      <td>Fervent Poincare</td>\n",
       "      <td>Não-binário</td>\n",
       "      <td>2453.80</td>\n",
       "      <td>False</td>\n",
       "      <td>PR</td>\n",
       "      <td>2024-06-26</td>\n",
       "      <td>Pro</td>\n",
       "    </tr>\n",
       "    <tr>\n",
       "      <th>27</th>\n",
       "      <td>Jolly Jemison</td>\n",
       "      <td>Não-binário</td>\n",
       "      <td>2112.27</td>\n",
       "      <td>False</td>\n",
       "      <td>RS</td>\n",
       "      <td>2024-06-09</td>\n",
       "      <td>Pro</td>\n",
       "    </tr>\n",
       "    <tr>\n",
       "      <th>109</th>\n",
       "      <td>Blissful Hugle</td>\n",
       "      <td>Feminino</td>\n",
       "      <td>2187.49</td>\n",
       "      <td>False</td>\n",
       "      <td>RR</td>\n",
       "      <td>2024-06-07</td>\n",
       "      <td>Pro</td>\n",
       "    </tr>\n",
       "    <tr>\n",
       "      <th>237</th>\n",
       "      <td>Stupefied Panini</td>\n",
       "      <td>Feminino</td>\n",
       "      <td>2242.01</td>\n",
       "      <td>False</td>\n",
       "      <td>SP</td>\n",
       "      <td>2024-06-06</td>\n",
       "      <td>Pro</td>\n",
       "    </tr>\n",
       "    <tr>\n",
       "      <th>175</th>\n",
       "      <td>Vibrant Meitner</td>\n",
       "      <td>Feminino</td>\n",
       "      <td>2890.78</td>\n",
       "      <td>False</td>\n",
       "      <td>PB</td>\n",
       "      <td>2024-06-03</td>\n",
       "      <td>Pro</td>\n",
       "    </tr>\n",
       "    <tr>\n",
       "      <th>351</th>\n",
       "      <td>Modest Wu</td>\n",
       "      <td>Masculino</td>\n",
       "      <td>1788.13</td>\n",
       "      <td>False</td>\n",
       "      <td>AL</td>\n",
       "      <td>2024-05-26</td>\n",
       "      <td>Standard</td>\n",
       "    </tr>\n",
       "    <tr>\n",
       "      <th>282</th>\n",
       "      <td>Thirsty Moore</td>\n",
       "      <td>Não-binário</td>\n",
       "      <td>2971.21</td>\n",
       "      <td>True</td>\n",
       "      <td>AP</td>\n",
       "      <td>2024-05-20</td>\n",
       "      <td>Premium</td>\n",
       "    </tr>\n",
       "    <tr>\n",
       "      <th>40</th>\n",
       "      <td>Affectionate Torvalds</td>\n",
       "      <td>Não-binário</td>\n",
       "      <td>2273.42</td>\n",
       "      <td>False</td>\n",
       "      <td>GO</td>\n",
       "      <td>2024-05-14</td>\n",
       "      <td>Pro</td>\n",
       "    </tr>\n",
       "    <tr>\n",
       "      <th>251</th>\n",
       "      <td>Trusting Northcutt</td>\n",
       "      <td>Masculino</td>\n",
       "      <td>2058.25</td>\n",
       "      <td>True</td>\n",
       "      <td>TO</td>\n",
       "      <td>2024-04-21</td>\n",
       "      <td>Premium</td>\n",
       "    </tr>\n",
       "    <tr>\n",
       "      <th>127</th>\n",
       "      <td>Stoic Hugle</td>\n",
       "      <td>Não-binário</td>\n",
       "      <td>2971.47</td>\n",
       "      <td>False</td>\n",
       "      <td>SC</td>\n",
       "      <td>2024-04-11</td>\n",
       "      <td>Pro</td>\n",
       "    </tr>\n",
       "    <tr>\n",
       "      <th>352</th>\n",
       "      <td>Busy Allen</td>\n",
       "      <td>Feminino</td>\n",
       "      <td>2263.52</td>\n",
       "      <td>True</td>\n",
       "      <td>TO</td>\n",
       "      <td>2024-04-09</td>\n",
       "      <td>Premium</td>\n",
       "    </tr>\n",
       "    <tr>\n",
       "      <th>379</th>\n",
       "      <td>Friendly Feistel</td>\n",
       "      <td>Feminino</td>\n",
       "      <td>2927.86</td>\n",
       "      <td>True</td>\n",
       "      <td>AM</td>\n",
       "      <td>2024-04-02</td>\n",
       "      <td>Premium</td>\n",
       "    </tr>\n",
       "    <tr>\n",
       "      <th>824</th>\n",
       "      <td>Peaceful Wescoff</td>\n",
       "      <td>Masculino</td>\n",
       "      <td>2080.07</td>\n",
       "      <td>False</td>\n",
       "      <td>MT</td>\n",
       "      <td>2024-02-26</td>\n",
       "      <td>Pro</td>\n",
       "    </tr>\n",
       "    <tr>\n",
       "      <th>195</th>\n",
       "      <td>Happy Pike</td>\n",
       "      <td>Masculino</td>\n",
       "      <td>2504.05</td>\n",
       "      <td>True</td>\n",
       "      <td>PA</td>\n",
       "      <td>2024-02-25</td>\n",
       "      <td>Premium</td>\n",
       "    </tr>\n",
       "    <tr>\n",
       "      <th>526</th>\n",
       "      <td>Kind Pasteur</td>\n",
       "      <td>Masculino</td>\n",
       "      <td>1960.90</td>\n",
       "      <td>False</td>\n",
       "      <td>MA</td>\n",
       "      <td>2024-02-09</td>\n",
       "      <td>Pro</td>\n",
       "    </tr>\n",
       "    <tr>\n",
       "      <th>902</th>\n",
       "      <td>Hardcore Golick</td>\n",
       "      <td>Masculino</td>\n",
       "      <td>1834.70</td>\n",
       "      <td>False</td>\n",
       "      <td>PI</td>\n",
       "      <td>2024-01-27</td>\n",
       "      <td>Pro</td>\n",
       "    </tr>\n",
       "    <tr>\n",
       "      <th>803</th>\n",
       "      <td>Amazing Wescoff</td>\n",
       "      <td>Não-binário</td>\n",
       "      <td>2370.16</td>\n",
       "      <td>False</td>\n",
       "      <td>RJ</td>\n",
       "      <td>2024-01-08</td>\n",
       "      <td>Pro</td>\n",
       "    </tr>\n",
       "  </tbody>\n",
       "</table>\n",
       "</div>"
      ],
      "text/plain": [
       "                       name       gender     paid  isFiliated state  \\\n",
       "id                                                                    \n",
       "62            Festive Bassi  Não-binário  2452.81       False    MS   \n",
       "756       Vigorous Chatelet    Masculino  2374.67       False    AM   \n",
       "698         Goofy Mendeleev  Não-binário  1872.17       False    RO   \n",
       "373         Hopeful Shirley    Masculino  2480.56        True    TO   \n",
       "541  Interesting Tereshkova     Feminino  2585.35       False    SP   \n",
       "310      Nervous Mirzakhani     Feminino  2709.81        True    RJ   \n",
       "362       Beautiful Meitner    Masculino  2944.91       False    PI   \n",
       "688                Sad Pike     Feminino  2026.38        True    CE   \n",
       "442         Vigilant Leakey  Não-binário  2190.30       False    GO   \n",
       "686            Nice Hypatia     Feminino  2945.13        True    TO   \n",
       "950              Sweet Pike     Feminino  1832.16        True    ES   \n",
       "693              Brave Ride     Feminino  1830.44        True    SC   \n",
       "183           Youthful Cerf     Feminino  2803.42       False    BA   \n",
       "160      Beautiful Jennings  Não-binário  1875.68        True    RO   \n",
       "176             Stoic Tharp     Feminino  2390.95       False    MG   \n",
       "884         Stupefied Tharp     Feminino  2377.37       False    PI   \n",
       "92       Affectionate Tharp     Feminino  2956.63       False    CE   \n",
       "837         Sleepy Mahavira     Feminino  2289.36       False    MS   \n",
       "419         Trusting Mendel     Feminino  2975.24       False    PE   \n",
       "347               Sad Noyce    Masculino  2535.35       False    PE   \n",
       "482         Dreamy Roentgen     Feminino  2968.62       False    BA   \n",
       "829        Vibrant Bhaskara     Feminino  2377.17       False    RS   \n",
       "569        Fervent Poincare  Não-binário  2453.80       False    PR   \n",
       "27            Jolly Jemison  Não-binário  2112.27       False    RS   \n",
       "109          Blissful Hugle     Feminino  2187.49       False    RR   \n",
       "237        Stupefied Panini     Feminino  2242.01       False    SP   \n",
       "175         Vibrant Meitner     Feminino  2890.78       False    PB   \n",
       "351               Modest Wu    Masculino  1788.13       False    AL   \n",
       "282           Thirsty Moore  Não-binário  2971.21        True    AP   \n",
       "40    Affectionate Torvalds  Não-binário  2273.42       False    GO   \n",
       "251      Trusting Northcutt    Masculino  2058.25        True    TO   \n",
       "127             Stoic Hugle  Não-binário  2971.47       False    SC   \n",
       "352              Busy Allen     Feminino  2263.52        True    TO   \n",
       "379        Friendly Feistel     Feminino  2927.86        True    AM   \n",
       "824        Peaceful Wescoff    Masculino  2080.07       False    MT   \n",
       "195              Happy Pike    Masculino  2504.05        True    PA   \n",
       "526            Kind Pasteur    Masculino  1960.90       False    MA   \n",
       "902         Hardcore Golick    Masculino  1834.70       False    PI   \n",
       "803         Amazing Wescoff  Não-binário  2370.16       False    RJ   \n",
       "\n",
       "          date      plan  \n",
       "id                        \n",
       "62  2024-12-26       Pro  \n",
       "756 2024-12-03       Pro  \n",
       "698 2024-12-01       Pro  \n",
       "373 2024-11-17   Premium  \n",
       "541 2024-11-16       Pro  \n",
       "310 2024-11-12   Premium  \n",
       "362 2024-10-18       Pro  \n",
       "688 2024-10-15   Premium  \n",
       "442 2024-10-11       Pro  \n",
       "686 2024-10-10   Premium  \n",
       "950 2024-09-28   Premium  \n",
       "693 2024-09-12   Premium  \n",
       "183 2024-09-04       Pro  \n",
       "160 2024-08-23   Premium  \n",
       "176 2024-08-17       Pro  \n",
       "884 2024-08-10       Pro  \n",
       "92  2024-08-06       Pro  \n",
       "837 2024-07-29       Pro  \n",
       "419 2024-07-29       Pro  \n",
       "347 2024-07-12       Pro  \n",
       "482 2024-06-28       Pro  \n",
       "829 2024-06-27       Pro  \n",
       "569 2024-06-26       Pro  \n",
       "27  2024-06-09       Pro  \n",
       "109 2024-06-07       Pro  \n",
       "237 2024-06-06       Pro  \n",
       "175 2024-06-03       Pro  \n",
       "351 2024-05-26  Standard  \n",
       "282 2024-05-20   Premium  \n",
       "40  2024-05-14       Pro  \n",
       "251 2024-04-21   Premium  \n",
       "127 2024-04-11       Pro  \n",
       "352 2024-04-09   Premium  \n",
       "379 2024-04-02   Premium  \n",
       "824 2024-02-26       Pro  \n",
       "195 2024-02-25   Premium  \n",
       "526 2024-02-09       Pro  \n",
       "902 2024-01-27       Pro  \n",
       "803 2024-01-08       Pro  "
      ]
     },
     "execution_count": 38,
     "metadata": {},
     "output_type": "execute_result"
    }
   ],
   "source": [
    "df2024off.sort_values(by='date', ascending=False)"
   ]
  },
  {
   "cell_type": "code",
   "execution_count": null,
   "metadata": {},
   "outputs": [
    {
     "data": {
      "text/plain": [
       "<AxesSubplot:title={'center':'Pagamentos fora do padrão por gênero em 2024'}>"
      ]
     },
     "execution_count": 18,
     "metadata": {},
     "output_type": "execute_result"
    },
    {
     "data": {
      "image/png": "[encoded data removed]",
      "text/plain": [
       "<Figure size 432x288 with 1 Axes>"
      ]
     },
     "metadata": {
      "needs_background": "light"
     },
     "output_type": "display_data"
    }
   ],
   "source": [
    "# Contando quantos pagamentos fora do padrão foram realizados por gênero\n",
    "byGender2024Off = df2024off['gender'].value_counts()\n",
    "\n",
    "# Plotando o gráfico de barras\n",
    "byGender2024Off.plot(kind='bar',title='Pagamentos fora do padrão por gênero em 2024')"
   ]
  },
  {
   "cell_type": "code",
   "execution_count": null,
   "metadata": {},
   "outputs": [
    {
     "data": {
      "text/plain": [
       "<AxesSubplot:>"
      ]
     },
     "execution_count": 10,
     "metadata": {},
     "output_type": "execute_result"
    },
    {
     "data": {
      "image/png": "[encoded data removed]",
      "text/plain": [
       "<Figure size 432x360 with 1 Axes>"
      ]
     },
     "metadata": {
      "needs_background": "light"
     },
     "output_type": "display_data"
    }
   ],
   "source": [
    "# Analisar a tendência dos planos baseado no histograma de planos obtidos\n",
    "df['plan'].hist(figsize=(6, 5), bins=10, color='blue', alpha=0.5)"
   ]
  },
  {
   "cell_type": "code",
   "execution_count": null,
   "metadata": {},
   "outputs": [
    {
     "data": {
      "text/plain": [
       "<AxesSubplot:title={'center':'Estados com mais registros'}, xlabel='Estados', ylabel='Quantidade de registros'>"
      ]
     },
     "execution_count": 27,
     "metadata": {},
     "output_type": "execute_result"
    },
    {
     "data": {
      "image/png": "[encoded data removed]",
      "text/plain": [
       "<Figure size 1440x432 with 1 Axes>"
      ]
     },
     "metadata": {
      "needs_background": "light"
     },
     "output_type": "display_data"
    }
   ],
   "source": [
    "# Analisar a quantidade de pessoas pagantes por estado em um gráfico de barras\n",
    "states = df['state'].value_counts().head(5)\n",
    "state_count = states.value_counts()\n",
    "\n",
    "# Plotando o gráfico de barras\n",
    "states.plot(kind='bar', figsize=(20, 6), color='green', alpha=0.5,legend=True, title='Estados com mais registros', ylabel='Quantidade de registros', xlabel='Estados', grid=True)"
   ]
  },
  {
   "cell_type": "code",
   "execution_count": null,
   "metadata": {},
   "outputs": [],
   "source": [
    "# Aqui nós calculamos as medias e desvios padrões dos pagamentos\n",
    "meanPaid = statistics.mean(df['paid']) # Média\n",
    "# df['paid'].mean() # Outra forma de calcular a média\n",
    "\n",
    "deviancePaid = statistics.stdev(df['paid']) # Desvio padrão\n",
    "# df['paid'].std() # Outra forma de calcular o desvio padrão"
   ]
  },
  {
   "cell_type": "code",
   "execution_count": null,
   "metadata": {},
   "outputs": [
    {
     "data": {
      "text/plain": [
       "(179.54922803142927, 1796.8913187614203)"
      ]
     },
     "execution_count": 13,
     "metadata": {},
     "output_type": "execute_result"
    }
   ],
   "source": [
    "# Aqui vemos a média e o desvio padrão dos pagamentos, mostrando os números\n",
    "# que estão dentro dos resultados usuais e padrões\n",
    "meanPaid - deviancePaid, meanPaid + deviancePaid\n"
   ]
  },
  {
   "cell_type": "code",
   "execution_count": null,
   "metadata": {},
   "outputs": [
    {
     "data": {
      "text/plain": [
       "(-629.1218173335662, 2605.5623641264156)"
      ]
     },
     "execution_count": 14,
     "metadata": {},
     "output_type": "execute_result"
    }
   ],
   "source": [
    "# Aqui vemos o desvio padrão relacionado a anomalias, mostrando os números\n",
    "# que estão fora dos resultados usuais e padrões\n",
    "meanPaid - 2 * deviancePaid, meanPaid + 2 * deviancePaid"
   ]
  },
  {
   "cell_type": "code",
   "execution_count": null,
   "metadata": {},
   "outputs": [
    {
     "data": {
      "text/html": [
       "<div>\n",
       "<style scoped>\n",
       "    .dataframe tbody tr th:only-of-type {\n",
       "        vertical-align: middle;\n",
       "    }\n",
       "\n",
       "    .dataframe tbody tr th {\n",
       "        vertical-align: top;\n",
       "    }\n",
       "\n",
       "    .dataframe thead th {\n",
       "        text-align: right;\n",
       "    }\n",
       "</style>\n",
       "<table border=\"1\" class=\"dataframe\">\n",
       "  <thead>\n",
       "    <tr style=\"text-align: right;\">\n",
       "      <th></th>\n",
       "      <th>paid</th>\n",
       "    </tr>\n",
       "  </thead>\n",
       "  <tbody>\n",
       "    <tr>\n",
       "      <th>count</th>\n",
       "      <td>951.000000</td>\n",
       "    </tr>\n",
       "    <tr>\n",
       "      <th>mean</th>\n",
       "      <td>988.220273</td>\n",
       "    </tr>\n",
       "    <tr>\n",
       "      <th>std</th>\n",
       "      <td>808.671045</td>\n",
       "    </tr>\n",
       "    <tr>\n",
       "      <th>min</th>\n",
       "      <td>0.010000</td>\n",
       "    </tr>\n",
       "    <tr>\n",
       "      <th>25%</th>\n",
       "      <td>387.040000</td>\n",
       "    </tr>\n",
       "    <tr>\n",
       "      <th>50%</th>\n",
       "      <td>746.550000</td>\n",
       "    </tr>\n",
       "    <tr>\n",
       "      <th>75%</th>\n",
       "      <td>1439.795000</td>\n",
       "    </tr>\n",
       "    <tr>\n",
       "      <th>max</th>\n",
       "      <td>2990.800000</td>\n",
       "    </tr>\n",
       "  </tbody>\n",
       "</table>\n",
       "</div>"
      ],
      "text/plain": [
       "              paid\n",
       "count   951.000000\n",
       "mean    988.220273\n",
       "std     808.671045\n",
       "min       0.010000\n",
       "25%     387.040000\n",
       "50%     746.550000\n",
       "75%    1439.795000\n",
       "max    2990.800000"
      ]
     },
     "execution_count": 15,
     "metadata": {},
     "output_type": "execute_result"
    }
   ],
   "source": [
    "# Aqui descrevemos o dataframe, mostrando a média, desvio padrão, mínimo, máximo\n",
    "df.describe()"
   ]
  },
  {
   "cell_type": "code",
   "execution_count": null,
   "metadata": {},
   "outputs": [
    {
     "data": {
      "text/plain": [
       "Não-binário    71\n",
       "Masculino      71\n",
       "Feminino       62\n",
       "Name: gender, dtype: int64"
      ]
     },
     "execution_count": 86,
     "metadata": {},
     "output_type": "execute_result"
    }
   ],
   "source": [
    "# Mesmo sendo um público em menor quantidade, os pagamentos realizados por pessoas\n",
    "# do gênero feminino foram maiores que os pagamentos realizados por pessoas dos outros\n",
    "# públicos. \n",
    "\n",
    "# Se fossemos avaliar,ou o fator de melhoria é a campanha de marketing para o público\n",
    "# feminino, ou o poder de compra em relação a 2024\n",
    "\n",
    "df2024['gender'].value_counts()"
   ]
  },
  {
   "cell_type": "code",
   "execution_count": null,
   "metadata": {},
   "outputs": [
    {
     "data": {
      "text/plain": [
       "Não-binário    332\n",
       "Masculino      326\n",
       "Feminino       293\n",
       "Name: gender, dtype: int64"
      ]
     },
     "execution_count": 87,
     "metadata": {},
     "output_type": "execute_result"
    }
   ],
   "source": [
    "df['gender'].value_counts()"
   ]
  },
  {
   "cell_type": "code",
   "execution_count": null,
   "metadata": {},
   "outputs": [],
   "source": [
    "# Serve para correlacionar valores, como a tabela atual não possui nenhuma\n",
    "# correlação, ficara aqui para fins de conhecimento\n",
    "# pd.DataFrame.corr"
   ]
  },
  {
   "cell_type": "code",
   "execution_count": null,
   "metadata": {},
   "outputs": [
    {
     "data": {
      "text/plain": [
       "name          0.0\n",
       "gender        0.0\n",
       "paid          4.9\n",
       "isFiliated    0.0\n",
       "state         0.0\n",
       "date          0.0\n",
       "dtype: float64"
      ]
     },
     "execution_count": 17,
     "metadata": {},
     "output_type": "execute_result"
    }
   ],
   "source": [
    "# CSV with Null\n",
    "csv_path_null = 'data_sample.csv'\n",
    "df_null = pd.read_csv(csv_path_null, index_col='id')\n",
    "\n",
    "# Aqui vemos a quantidade de valores nulos em porcentagem\n",
    "df_null.isna().sum() / len(df_null) * 100"
   ]
  }
 ],
 "metadata": {
  "kernelspec": {
   "display_name": "base",
   "language": "python",
   "name": "python3"
  },
  "language_info": {
   "codemirror_mode": {
    "name": "ipython",
    "version": 3
   },
   "file_extension": ".py",
   "mimetype": "text/x-python",
   "name": "python",
   "nbconvert_exporter": "python",
   "pygments_lexer": "ipython3",
   "version": "3.9.12"
  }
 },
 "nbformat": 4,
 "nbformat_minor": 2
}
