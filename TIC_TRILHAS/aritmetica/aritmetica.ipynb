{
 "cells": [
  {
   "cell_type": "code",
   "execution_count": 2,
   "metadata": {},
   "outputs": [],
   "source": [
    "import pandas as pd\n",
    "import numpy as np\n",
    "import matplotlib\n",
    "import statistics"
   ]
  },
  {
   "cell_type": "code",
   "execution_count": 3,
   "metadata": {},
   "outputs": [
    {
     "data": {
      "text/html": [
       "<div>\n",
       "<style scoped>\n",
       "    .dataframe tbody tr th:only-of-type {\n",
       "        vertical-align: middle;\n",
       "    }\n",
       "\n",
       "    .dataframe tbody tr th {\n",
       "        vertical-align: top;\n",
       "    }\n",
       "\n",
       "    .dataframe thead th {\n",
       "        text-align: right;\n",
       "    }\n",
       "</style>\n",
       "<table border=\"1\" class=\"dataframe\">\n",
       "  <thead>\n",
       "    <tr style=\"text-align: right;\">\n",
       "      <th></th>\n",
       "      <th>name</th>\n",
       "      <th>gender</th>\n",
       "      <th>paid</th>\n",
       "      <th>isFiliated</th>\n",
       "      <th>state</th>\n",
       "      <th>date</th>\n",
       "      <th>plan</th>\n",
       "    </tr>\n",
       "    <tr>\n",
       "      <th>id</th>\n",
       "      <th></th>\n",
       "      <th></th>\n",
       "      <th></th>\n",
       "      <th></th>\n",
       "      <th></th>\n",
       "      <th></th>\n",
       "      <th></th>\n",
       "    </tr>\n",
       "  </thead>\n",
       "  <tbody>\n",
       "    <tr>\n",
       "      <th>1</th>\n",
       "      <td>Goofy Payne</td>\n",
       "      <td>Não-binário</td>\n",
       "      <td>623.73</td>\n",
       "      <td>True</td>\n",
       "      <td>SC</td>\n",
       "      <td>04-01-2024</td>\n",
       "      <td>Pro</td>\n",
       "    </tr>\n",
       "    <tr>\n",
       "      <th>2</th>\n",
       "      <td>Zen Mccarthy</td>\n",
       "      <td>Não-binário</td>\n",
       "      <td>827.08</td>\n",
       "      <td>False</td>\n",
       "      <td>PB</td>\n",
       "      <td>18-04-2021</td>\n",
       "      <td>Standard</td>\n",
       "    </tr>\n",
       "    <tr>\n",
       "      <th>3</th>\n",
       "      <td>Inspiring Hofstadter</td>\n",
       "      <td>Masculino</td>\n",
       "      <td>480.45</td>\n",
       "      <td>False</td>\n",
       "      <td>PI</td>\n",
       "      <td>05-01-2020</td>\n",
       "      <td>Free</td>\n",
       "    </tr>\n",
       "    <tr>\n",
       "      <th>4</th>\n",
       "      <td>Focused Gauss</td>\n",
       "      <td>Não-binário</td>\n",
       "      <td>623.07</td>\n",
       "      <td>True</td>\n",
       "      <td>PI</td>\n",
       "      <td>01-05-2020</td>\n",
       "      <td>Pro</td>\n",
       "    </tr>\n",
       "    <tr>\n",
       "      <th>5</th>\n",
       "      <td>Ecstatic Kilby</td>\n",
       "      <td>Masculino</td>\n",
       "      <td>813.21</td>\n",
       "      <td>False</td>\n",
       "      <td>GO</td>\n",
       "      <td>18-02-2022</td>\n",
       "      <td>Standard</td>\n",
       "    </tr>\n",
       "    <tr>\n",
       "      <th>...</th>\n",
       "      <td>...</td>\n",
       "      <td>...</td>\n",
       "      <td>...</td>\n",
       "      <td>...</td>\n",
       "      <td>...</td>\n",
       "      <td>...</td>\n",
       "      <td>...</td>\n",
       "    </tr>\n",
       "    <tr>\n",
       "      <th>996</th>\n",
       "      <td>Adoring Pasteur</td>\n",
       "      <td>Masculino</td>\n",
       "      <td>437.81</td>\n",
       "      <td>False</td>\n",
       "      <td>PA</td>\n",
       "      <td>30-11-2023</td>\n",
       "      <td>Free</td>\n",
       "    </tr>\n",
       "    <tr>\n",
       "      <th>997</th>\n",
       "      <td>Heuristic Cori</td>\n",
       "      <td>Masculino</td>\n",
       "      <td>539.48</td>\n",
       "      <td>True</td>\n",
       "      <td>PB</td>\n",
       "      <td>21-09-2024</td>\n",
       "      <td>Pro</td>\n",
       "    </tr>\n",
       "    <tr>\n",
       "      <th>998</th>\n",
       "      <td>Loving Cannon</td>\n",
       "      <td>Feminino</td>\n",
       "      <td>907.96</td>\n",
       "      <td>False</td>\n",
       "      <td>MS</td>\n",
       "      <td>03-06-2023</td>\n",
       "      <td>Standard</td>\n",
       "    </tr>\n",
       "    <tr>\n",
       "      <th>999</th>\n",
       "      <td>Magical Panini</td>\n",
       "      <td>Não-binário</td>\n",
       "      <td>218.76</td>\n",
       "      <td>True</td>\n",
       "      <td>DF</td>\n",
       "      <td>24-09-2020</td>\n",
       "      <td>Pro</td>\n",
       "    </tr>\n",
       "    <tr>\n",
       "      <th>1000</th>\n",
       "      <td>Intelligent Elbakyan</td>\n",
       "      <td>Não-binário</td>\n",
       "      <td>803.41</td>\n",
       "      <td>True</td>\n",
       "      <td>SP</td>\n",
       "      <td>09-11-2023</td>\n",
       "      <td>Pro</td>\n",
       "    </tr>\n",
       "  </tbody>\n",
       "</table>\n",
       "<p>951 rows × 7 columns</p>\n",
       "</div>"
      ],
      "text/plain": [
       "                      name       gender    paid  isFiliated state        date  \\\n",
       "id                                                                              \n",
       "1              Goofy Payne  Não-binário  623.73        True    SC  04-01-2024   \n",
       "2             Zen Mccarthy  Não-binário  827.08       False    PB  18-04-2021   \n",
       "3     Inspiring Hofstadter    Masculino  480.45       False    PI  05-01-2020   \n",
       "4            Focused Gauss  Não-binário  623.07        True    PI  01-05-2020   \n",
       "5           Ecstatic Kilby    Masculino  813.21       False    GO  18-02-2022   \n",
       "...                    ...          ...     ...         ...   ...         ...   \n",
       "996        Adoring Pasteur    Masculino  437.81       False    PA  30-11-2023   \n",
       "997         Heuristic Cori    Masculino  539.48        True    PB  21-09-2024   \n",
       "998          Loving Cannon     Feminino  907.96       False    MS  03-06-2023   \n",
       "999         Magical Panini  Não-binário  218.76        True    DF  24-09-2020   \n",
       "1000  Intelligent Elbakyan  Não-binário  803.41        True    SP  09-11-2023   \n",
       "\n",
       "          plan  \n",
       "id              \n",
       "1          Pro  \n",
       "2     Standard  \n",
       "3         Free  \n",
       "4          Pro  \n",
       "5     Standard  \n",
       "...        ...  \n",
       "996       Free  \n",
       "997        Pro  \n",
       "998   Standard  \n",
       "999        Pro  \n",
       "1000       Pro  \n",
       "\n",
       "[951 rows x 7 columns]"
      ]
     },
     "execution_count": 3,
     "metadata": {},
     "output_type": "execute_result"
    }
   ],
   "source": [
    "csv_path = 'cleaned_data_sample.csv'\n",
    "df = pd.read_csv(csv_path, index_col='id')\n",
    "df"
   ]
  },
  {
   "cell_type": "code",
   "execution_count": 4,
   "metadata": {},
   "outputs": [],
   "source": [
    "# A média da soma de todos os pagamentos\n",
    "media = df['paid'].mean()\n",
    "# statistics.mean(df['paid']) # Outra forma de calcular a média\n",
    "\n",
    "# A mediana da soma de todos os pagamentos organizados\n",
    "mediana = df['paid'].sort_values(ascending=False).median()\n",
    "# statistics.median(df['paid']) # Outra forma de calcular a mediana\n",
    "\n",
    "# A moda do estado, quanto um estado aparece mais vezes\n",
    "stateModa = df['state'].mode()\n",
    "# statistics.mode(df['state']) # Outra forma de calcular a moda"
   ]
  },
  {
   "cell_type": "code",
   "execution_count": 5,
   "metadata": {},
   "outputs": [
    {
     "data": {
      "text/plain": [
       "<AxesSubplot:title={'center':'Histograma de pagamentos'}, ylabel='Frequency'>"
      ]
     },
     "execution_count": 5,
     "metadata": {},
     "output_type": "execute_result"
    },
    {
     "data": {
      "image/png": "[encoded data removed]",
      "text/plain": [
       "<Figure size 432x288 with 1 Axes>"
      ]
     },
     "metadata": {
      "needs_background": "light"
     },
     "output_type": "display_data"
    }
   ],
   "source": [
    "# Analisar a tendência de pagamentos baseada no histograma de valores pagos\n",
    "df['paid'].plot(kind='hist', bins=50, title='Histograma de pagamentos')"
   ]
  },
  {
   "cell_type": "code",
   "execution_count": 39,
   "metadata": {},
   "outputs": [
    {
     "name": "stderr",
     "output_type": "stream",
     "text": [
      "/home/real/anaconda3/lib/python3.9/site-packages/pandas/core/arraylike.py:52: UserWarning: Parsing '31-12-2024' in DD/MM/YYYY format. Provide format or specify infer_datetime_format=True for consistent parsing.\n",
      "  return self._cmp_method(other, operator.le)\n"
     ]
    },
    {
     "data": {
      "text/html": [
       "<div>\n",
       "<style scoped>\n",
       "    .dataframe tbody tr th:only-of-type {\n",
       "        vertical-align: middle;\n",
       "    }\n",
       "\n",
       "    .dataframe tbody tr th {\n",
       "        vertical-align: top;\n",
       "    }\n",
       "\n",
       "    .dataframe thead th {\n",
       "        text-align: right;\n",
       "    }\n",
       "</style>\n",
       "<table border=\"1\" class=\"dataframe\">\n",
       "  <thead>\n",
       "    <tr style=\"text-align: right;\">\n",
       "      <th></th>\n",
       "      <th>name</th>\n",
       "      <th>gender</th>\n",
       "      <th>paid</th>\n",
       "      <th>isFiliated</th>\n",
       "      <th>state</th>\n",
       "      <th>date</th>\n",
       "      <th>plan</th>\n",
       "    </tr>\n",
       "    <tr>\n",
       "      <th>id</th>\n",
       "      <th></th>\n",
       "      <th></th>\n",
       "      <th></th>\n",
       "      <th></th>\n",
       "      <th></th>\n",
       "      <th></th>\n",
       "      <th></th>\n",
       "    </tr>\n",
       "  </thead>\n",
       "  <tbody>\n",
       "    <tr>\n",
       "      <th>541</th>\n",
       "      <td>Interesting Tereshkova</td>\n",
       "      <td>Feminino</td>\n",
       "      <td>2585.35</td>\n",
       "      <td>False</td>\n",
       "      <td>SP</td>\n",
       "      <td>2024-11-16</td>\n",
       "      <td>Pro</td>\n",
       "    </tr>\n",
       "    <tr>\n",
       "      <th>310</th>\n",
       "      <td>Nervous Mirzakhani</td>\n",
       "      <td>Feminino</td>\n",
       "      <td>2709.81</td>\n",
       "      <td>True</td>\n",
       "      <td>RJ</td>\n",
       "      <td>2024-11-12</td>\n",
       "      <td>Premium</td>\n",
       "    </tr>\n",
       "    <tr>\n",
       "      <th>362</th>\n",
       "      <td>Beautiful Meitner</td>\n",
       "      <td>Masculino</td>\n",
       "      <td>2944.91</td>\n",
       "      <td>False</td>\n",
       "      <td>PI</td>\n",
       "      <td>2024-10-18</td>\n",
       "      <td>Pro</td>\n",
       "    </tr>\n",
       "    <tr>\n",
       "      <th>686</th>\n",
       "      <td>Nice Hypatia</td>\n",
       "      <td>Feminino</td>\n",
       "      <td>2945.13</td>\n",
       "      <td>True</td>\n",
       "      <td>TO</td>\n",
       "      <td>2024-10-10</td>\n",
       "      <td>Premium</td>\n",
       "    </tr>\n",
       "    <tr>\n",
       "      <th>183</th>\n",
       "      <td>Youthful Cerf</td>\n",
       "      <td>Feminino</td>\n",
       "      <td>2803.42</td>\n",
       "      <td>False</td>\n",
       "      <td>BA</td>\n",
       "      <td>2024-09-04</td>\n",
       "      <td>Pro</td>\n",
       "    </tr>\n",
       "    <tr>\n",
       "      <th>92</th>\n",
       "      <td>Affectionate Tharp</td>\n",
       "      <td>Feminino</td>\n",
       "      <td>2956.63</td>\n",
       "      <td>False</td>\n",
       "      <td>CE</td>\n",
       "      <td>2024-08-06</td>\n",
       "      <td>Pro</td>\n",
       "    </tr>\n",
       "    <tr>\n",
       "      <th>419</th>\n",
       "      <td>Trusting Mendel</td>\n",
       "      <td>Feminino</td>\n",
       "      <td>2975.24</td>\n",
       "      <td>False</td>\n",
       "      <td>PE</td>\n",
       "      <td>2024-07-29</td>\n",
       "      <td>Pro</td>\n",
       "    </tr>\n",
       "    <tr>\n",
       "      <th>482</th>\n",
       "      <td>Dreamy Roentgen</td>\n",
       "      <td>Feminino</td>\n",
       "      <td>2968.62</td>\n",
       "      <td>False</td>\n",
       "      <td>BA</td>\n",
       "      <td>2024-06-28</td>\n",
       "      <td>Pro</td>\n",
       "    </tr>\n",
       "    <tr>\n",
       "      <th>175</th>\n",
       "      <td>Vibrant Meitner</td>\n",
       "      <td>Feminino</td>\n",
       "      <td>2890.78</td>\n",
       "      <td>False</td>\n",
       "      <td>PB</td>\n",
       "      <td>2024-06-03</td>\n",
       "      <td>Pro</td>\n",
       "    </tr>\n",
       "    <tr>\n",
       "      <th>282</th>\n",
       "      <td>Thirsty Moore</td>\n",
       "      <td>Não-binário</td>\n",
       "      <td>2971.21</td>\n",
       "      <td>True</td>\n",
       "      <td>AP</td>\n",
       "      <td>2024-05-20</td>\n",
       "      <td>Premium</td>\n",
       "    </tr>\n",
       "    <tr>\n",
       "      <th>127</th>\n",
       "      <td>Stoic Hugle</td>\n",
       "      <td>Não-binário</td>\n",
       "      <td>2971.47</td>\n",
       "      <td>False</td>\n",
       "      <td>SC</td>\n",
       "      <td>2024-04-11</td>\n",
       "      <td>Pro</td>\n",
       "    </tr>\n",
       "    <tr>\n",
       "      <th>379</th>\n",
       "      <td>Friendly Feistel</td>\n",
       "      <td>Feminino</td>\n",
       "      <td>2927.86</td>\n",
       "      <td>True</td>\n",
       "      <td>AM</td>\n",
       "      <td>2024-04-02</td>\n",
       "      <td>Premium</td>\n",
       "    </tr>\n",
       "  </tbody>\n",
       "</table>\n",
       "</div>"
      ],
      "text/plain": [
       "                       name       gender     paid  isFiliated state  \\\n",
       "id                                                                    \n",
       "541  Interesting Tereshkova     Feminino  2585.35       False    SP   \n",
       "310      Nervous Mirzakhani     Feminino  2709.81        True    RJ   \n",
       "362       Beautiful Meitner    Masculino  2944.91       False    PI   \n",
       "686            Nice Hypatia     Feminino  2945.13        True    TO   \n",
       "183           Youthful Cerf     Feminino  2803.42       False    BA   \n",
       "92       Affectionate Tharp     Feminino  2956.63       False    CE   \n",
       "419         Trusting Mendel     Feminino  2975.24       False    PE   \n",
       "482         Dreamy Roentgen     Feminino  2968.62       False    BA   \n",
       "175         Vibrant Meitner     Feminino  2890.78       False    PB   \n",
       "282           Thirsty Moore  Não-binário  2971.21        True    AP   \n",
       "127             Stoic Hugle  Não-binário  2971.47       False    SC   \n",
       "379        Friendly Feistel     Feminino  2927.86        True    AM   \n",
       "\n",
       "          date     plan  \n",
       "id                       \n",
       "541 2024-11-16      Pro  \n",
       "310 2024-11-12  Premium  \n",
       "362 2024-10-18      Pro  \n",
       "686 2024-10-10  Premium  \n",
       "183 2024-09-04      Pro  \n",
       "92  2024-08-06      Pro  \n",
       "419 2024-07-29      Pro  \n",
       "482 2024-06-28      Pro  \n",
       "175 2024-06-03      Pro  \n",
       "282 2024-05-20  Premium  \n",
       "127 2024-04-11      Pro  \n",
       "379 2024-04-02  Premium  "
      ]
     },
     "execution_count": 39,
     "metadata": {},
     "output_type": "execute_result"
    }
   ],
   "source": [
    "# Convertendo formato de data para datetime, assim podemos fazer comparações de datas\n",
    "df['date'] = pd.to_datetime(df['date'], format='%D/%M/%Y', infer_datetime_format=True)\n",
    "\n",
    "# Pegando todos os pagamentos realizados em 2024\n",
    "df2024 = df.loc[\n",
    "    (df['date'] >= '01-01-2024')\n",
    "    & \n",
    "    (df['date'] <= '31-12-2024')\n",
    "]\n",
    "\n",
    "# Calculando a média e o desvio padrão dos pagamentos realizados em 2024\n",
    "mean2024 = df2024['paid'].mean()\n",
    "std2024 = df2024['paid'].std()"
   ]
  },
  {
   "cell_type": "code",
   "execution_count": 54,
   "metadata": {},
   "outputs": [
    {
     "data": {
      "text/plain": [
       "<AxesSubplot:title={'center':'Pagamentos realizados em 2024'}, xlabel='date'>"
      ]
     },
     "execution_count": 54,
     "metadata": {},
     "output_type": "execute_result"
    },
    {
     "data": {
      "image/png": "[encoded data removed]",
      "text/plain": [
       "<Figure size 1440x360 with 1 Axes>"
      ]
     },
     "metadata": {
      "needs_background": "light"
     },
     "output_type": "display_data"
    }
   ],
   "source": [
    "df2024.plot(x='date', y='paid', kind='line', title='Pagamentos realizados em 2024', figsize=(20, 5))"
   ]
  },
  {
   "cell_type": "code",
   "execution_count": 58,
   "metadata": {},
   "outputs": [
    {
     "ename": "InvalidIndexError",
     "evalue": "(slice(0, -1, 1), slice(0, 3, 1))",
     "output_type": "error",
     "traceback": [
      "\u001b[0;31m---------------------------------------------------------------------------\u001b[0m",
      "\u001b[0;31mTypeError\u001b[0m                                 Traceback (most recent call last)",
      "File \u001b[0;32m~/anaconda3/lib/python3.9/site-packages/pandas/core/indexes/base.py:3621\u001b[0m, in \u001b[0;36mIndex.get_loc\u001b[0;34m(self, key, method, tolerance)\u001b[0m\n\u001b[1;32m   3620\u001b[0m \u001b[38;5;28;01mtry\u001b[39;00m:\n\u001b[0;32m-> 3621\u001b[0m     \u001b[38;5;28;01mreturn\u001b[39;00m \u001b[38;5;28;43mself\u001b[39;49m\u001b[38;5;241;43m.\u001b[39;49m\u001b[43m_engine\u001b[49m\u001b[38;5;241;43m.\u001b[39;49m\u001b[43mget_loc\u001b[49m\u001b[43m(\u001b[49m\u001b[43mcasted_key\u001b[49m\u001b[43m)\u001b[49m\n\u001b[1;32m   3622\u001b[0m \u001b[38;5;28;01mexcept\u001b[39;00m \u001b[38;5;167;01mKeyError\u001b[39;00m \u001b[38;5;28;01mas\u001b[39;00m err:\n",
      "File \u001b[0;32m~/anaconda3/lib/python3.9/site-packages/pandas/_libs/index.pyx:136\u001b[0m, in \u001b[0;36mpandas._libs.index.IndexEngine.get_loc\u001b[0;34m()\u001b[0m\n",
      "File \u001b[0;32m~/anaconda3/lib/python3.9/site-packages/pandas/_libs/index.pyx:142\u001b[0m, in \u001b[0;36mpandas._libs.index.IndexEngine.get_loc\u001b[0;34m()\u001b[0m\n",
      "\u001b[0;31mTypeError\u001b[0m: '(slice(0, -1, 1), slice(0, 3, 1))' is an invalid key",
      "\nDuring handling of the above exception, another exception occurred:\n",
      "\u001b[0;31mInvalidIndexError\u001b[0m                         Traceback (most recent call last)",
      "Input \u001b[0;32mIn [58]\u001b[0m, in \u001b[0;36m<cell line: 7>\u001b[0;34m()\u001b[0m\n\u001b[1;32m      2\u001b[0m df2024off \u001b[38;5;241m=\u001b[39m df2024\u001b[38;5;241m.\u001b[39mloc[\n\u001b[1;32m      3\u001b[0m     df2024[\u001b[38;5;124m'\u001b[39m\u001b[38;5;124mpaid\u001b[39m\u001b[38;5;124m'\u001b[39m] \u001b[38;5;241m>\u001b[39m mean2024 \u001b[38;5;241m+\u001b[39m \u001b[38;5;241m2\u001b[39m\u001b[38;5;241m*\u001b[39mstd2024\n\u001b[1;32m      4\u001b[0m ]\n\u001b[1;32m      6\u001b[0m \u001b[38;5;66;03m# Ordenando os pagamentos fora do padrão por data\u001b[39;00m\n\u001b[0;32m----> 7\u001b[0m \u001b[43mdf2024off\u001b[49m\u001b[43m[\u001b[49m\u001b[38;5;241;43m0\u001b[39;49m\u001b[43m:\u001b[49m\u001b[38;5;241;43m-\u001b[39;49m\u001b[38;5;241;43m1\u001b[39;49m\u001b[43m:\u001b[49m\u001b[38;5;241;43m1\u001b[39;49m\u001b[43m,\u001b[49m\u001b[38;5;241;43m0\u001b[39;49m\u001b[43m:\u001b[49m\u001b[38;5;241;43m3\u001b[39;49m\u001b[43m:\u001b[49m\u001b[38;5;241;43m1\u001b[39;49m\u001b[43m]\u001b[49m\n",
      "File \u001b[0;32m~/anaconda3/lib/python3.9/site-packages/pandas/core/frame.py:3505\u001b[0m, in \u001b[0;36mDataFrame.__getitem__\u001b[0;34m(self, key)\u001b[0m\n\u001b[1;32m   3503\u001b[0m \u001b[38;5;28;01mif\u001b[39;00m \u001b[38;5;28mself\u001b[39m\u001b[38;5;241m.\u001b[39mcolumns\u001b[38;5;241m.\u001b[39mnlevels \u001b[38;5;241m>\u001b[39m \u001b[38;5;241m1\u001b[39m:\n\u001b[1;32m   3504\u001b[0m     \u001b[38;5;28;01mreturn\u001b[39;00m \u001b[38;5;28mself\u001b[39m\u001b[38;5;241m.\u001b[39m_getitem_multilevel(key)\n\u001b[0;32m-> 3505\u001b[0m indexer \u001b[38;5;241m=\u001b[39m \u001b[38;5;28;43mself\u001b[39;49m\u001b[38;5;241;43m.\u001b[39;49m\u001b[43mcolumns\u001b[49m\u001b[38;5;241;43m.\u001b[39;49m\u001b[43mget_loc\u001b[49m\u001b[43m(\u001b[49m\u001b[43mkey\u001b[49m\u001b[43m)\u001b[49m\n\u001b[1;32m   3506\u001b[0m \u001b[38;5;28;01mif\u001b[39;00m is_integer(indexer):\n\u001b[1;32m   3507\u001b[0m     indexer \u001b[38;5;241m=\u001b[39m [indexer]\n",
      "File \u001b[0;32m~/anaconda3/lib/python3.9/site-packages/pandas/core/indexes/base.py:3628\u001b[0m, in \u001b[0;36mIndex.get_loc\u001b[0;34m(self, key, method, tolerance)\u001b[0m\n\u001b[1;32m   3623\u001b[0m         \u001b[38;5;28;01mraise\u001b[39;00m \u001b[38;5;167;01mKeyError\u001b[39;00m(key) \u001b[38;5;28;01mfrom\u001b[39;00m \u001b[38;5;21;01merr\u001b[39;00m\n\u001b[1;32m   3624\u001b[0m     \u001b[38;5;28;01mexcept\u001b[39;00m \u001b[38;5;167;01mTypeError\u001b[39;00m:\n\u001b[1;32m   3625\u001b[0m         \u001b[38;5;66;03m# If we have a listlike key, _check_indexing_error will raise\u001b[39;00m\n\u001b[1;32m   3626\u001b[0m         \u001b[38;5;66;03m#  InvalidIndexError. Otherwise we fall through and re-raise\u001b[39;00m\n\u001b[1;32m   3627\u001b[0m         \u001b[38;5;66;03m#  the TypeError.\u001b[39;00m\n\u001b[0;32m-> 3628\u001b[0m         \u001b[38;5;28;43mself\u001b[39;49m\u001b[38;5;241;43m.\u001b[39;49m\u001b[43m_check_indexing_error\u001b[49m\u001b[43m(\u001b[49m\u001b[43mkey\u001b[49m\u001b[43m)\u001b[49m\n\u001b[1;32m   3629\u001b[0m         \u001b[38;5;28;01mraise\u001b[39;00m\n\u001b[1;32m   3631\u001b[0m \u001b[38;5;66;03m# GH#42269\u001b[39;00m\n",
      "File \u001b[0;32m~/anaconda3/lib/python3.9/site-packages/pandas/core/indexes/base.py:5637\u001b[0m, in \u001b[0;36mIndex._check_indexing_error\u001b[0;34m(self, key)\u001b[0m\n\u001b[1;32m   5633\u001b[0m \u001b[38;5;28;01mdef\u001b[39;00m \u001b[38;5;21m_check_indexing_error\u001b[39m(\u001b[38;5;28mself\u001b[39m, key):\n\u001b[1;32m   5634\u001b[0m     \u001b[38;5;28;01mif\u001b[39;00m \u001b[38;5;129;01mnot\u001b[39;00m is_scalar(key):\n\u001b[1;32m   5635\u001b[0m         \u001b[38;5;66;03m# if key is not a scalar, directly raise an error (the code below\u001b[39;00m\n\u001b[1;32m   5636\u001b[0m         \u001b[38;5;66;03m# would convert to numpy arrays and raise later any way) - GH29926\u001b[39;00m\n\u001b[0;32m-> 5637\u001b[0m         \u001b[38;5;28;01mraise\u001b[39;00m InvalidIndexError(key)\n",
      "\u001b[0;31mInvalidIndexError\u001b[0m: (slice(0, -1, 1), slice(0, 3, 1))"
     ]
    }
   ],
   "source": [
    "# Pagamentos que estão fora do padrão\n",
    "df2024off = df2024.loc[\n",
    "    df2024['paid'] > mean2024 + 2*std2024\n",
    "]\n",
    "\n",
    "# Ordenando os pagamentos fora do padrão por data\n",
    "df2024off.sort_values(by='date', ascending=False)"
   ]
  },
  {
   "cell_type": "code",
   "execution_count": 40,
   "metadata": {},
   "outputs": [
    {
     "data": {
      "text/plain": [
       "<AxesSubplot:title={'center':'Pagamentos fora do padrão por gênero'}>"
      ]
     },
     "execution_count": 40,
     "metadata": {},
     "output_type": "execute_result"
    },
    {
     "data": {
      "image/png": "[encoded data removed]",
      "text/plain": [
       "<Figure size 432x288 with 1 Axes>"
      ]
     },
     "metadata": {
      "needs_background": "light"
     },
     "output_type": "display_data"
    }
   ],
   "source": [
    "# Contando quantos pagamentos fora do padrão foram realizados por gênero\n",
    "byGender2024Off = df2024off['gender'].value_counts()\n",
    "\n",
    "# Plotando o gráfico de barras\n",
    "byGender2024Off.plot(kind='bar',title='Pagamentos fora do padrão por gênero')"
   ]
  },
  {
   "cell_type": "code",
   "execution_count": 7,
   "metadata": {},
   "outputs": [
    {
     "data": {
      "text/plain": [
       "<AxesSubplot:>"
      ]
     },
     "execution_count": 7,
     "metadata": {},
     "output_type": "execute_result"
    },
    {
     "data": {
      "image/png": "[encoded data removed]",
      "text/plain": [
       "<Figure size 432x360 with 1 Axes>"
      ]
     },
     "metadata": {
      "needs_background": "light"
     },
     "output_type": "display_data"
    }
   ],
   "source": [
    "# Analisar a tendência dos planos baseado no histograma de planos obtidos\n",
    "df['plan'].hist(figsize=(6, 5), bins=10, color='blue', alpha=0.5)"
   ]
  },
  {
   "cell_type": "code",
   "execution_count": 8,
   "metadata": {},
   "outputs": [
    {
     "data": {
      "text/plain": [
       "<AxesSubplot:title={'center':'Estados com mais registros'}, xlabel='Estados', ylabel='Quantidade de registros'>"
      ]
     },
     "execution_count": 8,
     "metadata": {},
     "output_type": "execute_result"
    },
    {
     "data": {
      "image/png": "[encoded data removed]",
      "text/plain": [
       "<Figure size 1440x432 with 1 Axes>"
      ]
     },
     "metadata": {
      "needs_background": "light"
     },
     "output_type": "display_data"
    }
   ],
   "source": [
    "# Analisar a quantidade de pessoas pagantes por estado em um gráfico de barras\n",
    "states = df['state'].value_counts().head(10)\n",
    "\n",
    "states.plot(kind='bar', figsize=(20, 6), color='green', alpha=0.5,legend=True, title='Estados com mais registros', ylabel='Quantidade de registros', xlabel='Estados', grid=True)"
   ]
  },
  {
   "cell_type": "code",
   "execution_count": 9,
   "metadata": {},
   "outputs": [],
   "source": [
    "# Aqui nós calculamos as medias e desvios padrões dos pagamentos\n",
    "meanPaid = statistics.mean(df['paid']) # Média\n",
    "# df['paid'].mean() # Outra forma de calcular a média\n",
    "\n",
    "deviancePaid = statistics.stdev(df['paid']) # Desvio padrão\n",
    "# df['paid'].std() # Outra forma de calcular o desvio padrão"
   ]
  },
  {
   "cell_type": "code",
   "execution_count": 10,
   "metadata": {},
   "outputs": [
    {
     "data": {
      "text/plain": [
       "(179.54922803142927, 1796.8913187614203)"
      ]
     },
     "execution_count": 10,
     "metadata": {},
     "output_type": "execute_result"
    }
   ],
   "source": [
    "# Aqui vemos a média e o desvio padrão dos pagamentos, mostrando os números\n",
    "# que estão dentro dos resultados usuais e padrões\n",
    "meanPaid - deviancePaid, meanPaid + deviancePaid\n"
   ]
  },
  {
   "cell_type": "code",
   "execution_count": 11,
   "metadata": {},
   "outputs": [
    {
     "data": {
      "text/plain": [
       "(-629.1218173335662, 2605.5623641264156)"
      ]
     },
     "execution_count": 11,
     "metadata": {},
     "output_type": "execute_result"
    }
   ],
   "source": [
    "# Aqui vemos o desvio padrão relacionado a anomalias, mostrando os números\n",
    "# que estão fora dos resultados usuais e padrões\n",
    "meanPaid - 2 * deviancePaid, meanPaid + 2 * deviancePaid"
   ]
  },
  {
   "cell_type": "code",
   "execution_count": 12,
   "metadata": {},
   "outputs": [
    {
     "data": {
      "text/html": [
       "<div>\n",
       "<style scoped>\n",
       "    .dataframe tbody tr th:only-of-type {\n",
       "        vertical-align: middle;\n",
       "    }\n",
       "\n",
       "    .dataframe tbody tr th {\n",
       "        vertical-align: top;\n",
       "    }\n",
       "\n",
       "    .dataframe thead th {\n",
       "        text-align: right;\n",
       "    }\n",
       "</style>\n",
       "<table border=\"1\" class=\"dataframe\">\n",
       "  <thead>\n",
       "    <tr style=\"text-align: right;\">\n",
       "      <th></th>\n",
       "      <th>paid</th>\n",
       "    </tr>\n",
       "  </thead>\n",
       "  <tbody>\n",
       "    <tr>\n",
       "      <th>count</th>\n",
       "      <td>951.000000</td>\n",
       "    </tr>\n",
       "    <tr>\n",
       "      <th>mean</th>\n",
       "      <td>988.220273</td>\n",
       "    </tr>\n",
       "    <tr>\n",
       "      <th>std</th>\n",
       "      <td>808.671045</td>\n",
       "    </tr>\n",
       "    <tr>\n",
       "      <th>min</th>\n",
       "      <td>0.010000</td>\n",
       "    </tr>\n",
       "    <tr>\n",
       "      <th>25%</th>\n",
       "      <td>387.040000</td>\n",
       "    </tr>\n",
       "    <tr>\n",
       "      <th>50%</th>\n",
       "      <td>746.550000</td>\n",
       "    </tr>\n",
       "    <tr>\n",
       "      <th>75%</th>\n",
       "      <td>1439.795000</td>\n",
       "    </tr>\n",
       "    <tr>\n",
       "      <th>max</th>\n",
       "      <td>2990.800000</td>\n",
       "    </tr>\n",
       "  </tbody>\n",
       "</table>\n",
       "</div>"
      ],
      "text/plain": [
       "              paid\n",
       "count   951.000000\n",
       "mean    988.220273\n",
       "std     808.671045\n",
       "min       0.010000\n",
       "25%     387.040000\n",
       "50%     746.550000\n",
       "75%    1439.795000\n",
       "max    2990.800000"
      ]
     },
     "execution_count": 12,
     "metadata": {},
     "output_type": "execute_result"
    }
   ],
   "source": [
    "# Aqui descrevemos o dataframe, mostrando a média, desvio padrão, mínimo, máximo\n",
    "df.describe()"
   ]
  },
  {
   "cell_type": "code",
   "execution_count": 13,
   "metadata": {},
   "outputs": [],
   "source": [
    "# Serve para correlacionar valores, como a tabela atual não possui nenhuma\n",
    "# correlação, ficara aqui para fins de conhecimento\n",
    "# pd.DataFrame.corr"
   ]
  },
  {
   "cell_type": "code",
   "execution_count": 14,
   "metadata": {},
   "outputs": [
    {
     "data": {
      "text/plain": [
       "name          0.0\n",
       "gender        0.0\n",
       "paid          4.9\n",
       "isFiliated    0.0\n",
       "state         0.0\n",
       "date          0.0\n",
       "dtype: float64"
      ]
     },
     "execution_count": 14,
     "metadata": {},
     "output_type": "execute_result"
    }
   ],
   "source": [
    "# CSV with Null\n",
    "csv_path_null = 'data_sample.csv'\n",
    "df_null = pd.read_csv(csv_path_null, index_col='id')\n",
    "\n",
    "# Aqui vemos a quantidade de valores nulos em porcentagem\n",
    "df_null.isna().sum() / len(df_null) * 100"
   ]
  }
 ],
 "metadata": {
  "kernelspec": {
   "display_name": "base",
   "language": "python",
   "name": "python3"
  },
  "language_info": {
   "codemirror_mode": {
    "name": "ipython",
    "version": 3
   },
   "file_extension": ".py",
   "mimetype": "text/x-python",
   "name": "python",
   "nbconvert_exporter": "python",
   "pygments_lexer": "ipython3",
   "version": "3.9.12"
  }
 },
 "nbformat": 4,
 "nbformat_minor": 2
}
