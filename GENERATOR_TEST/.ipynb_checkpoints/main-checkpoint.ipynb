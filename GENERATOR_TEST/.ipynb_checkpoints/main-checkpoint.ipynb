{
 "cells": [
  {
   "cell_type": "code",
   "execution_count": null,
   "id": "c9f5d735",
   "metadata": {},
   "outputs": [],
   "source": [
    "import pandas as pd"
   ]
  },
  {
   "cell_type": "code",
   "execution_count": null,
   "id": "ccfbbe87",
   "metadata": {},
   "outputs": [],
   "source": [
    "# O caminho do arquivo armazenado em um CSV\n",
    "csv_path = \".//data_sample.csv\""
   ]
  },
  {
   "cell_type": "code",
   "execution_count": null,
   "id": "f70399fd",
   "metadata": {},
   "outputs": [],
   "source": [
    "# Lê o arquivo CSV e armazena em um DataFrame\n",
    "df = pd.read_csv(csv_path, index_col='id')\n",
    "\n",
    "# Adiciona uma nova coluna ao DataFrame\n",
    "df['planType'] = df['isFiliated'].apply(\n",
    "    lambda x: 'Premium' if x == True else 'Free'\n",
    ") if 'isFiliated' in df.columns else None\n",
    "\n",
    "# Filtra os dados para remover as linhas com valores nulos\n",
    "df_na = df.dropna()\n",
    "\n",
    "# Filtra os dados para encontrar os pagantes que pagaram mais de R$ 800,00\n",
    "big_payers = df.loc[df['paid'] > 800.00]\n",
    "\n",
    "# Filtra os dados para encontrar os pagantes que pagaram mais de R$ 1500,00\n",
    "bigger_payers = df.loc[df['paid'] > 1500.00]\n",
    "\n",
    "# Filtra os dados para encontrar os pagantes que são filiados\n",
    "filiatedBigPlayers = big_payers.loc[big_payers['isFiliated'] == True]\n",
    "\n",
    "# Filtra os dados para encontrar os pagantes que são filiados e são do estado do Amazonas\n",
    "fbpAM = filiatedBigPlayers.loc[filiatedBigPlayers['state'] == 'AM']\n",
    "\n",
    "# Podemos fazer queries mais complexas\n",
    "queryTest = big_payers.loc[\n",
    "    (big_payers['gender'] == 'Masculino') &\n",
    "    (big_payers['state'] == 'PE')\n",
    "]\n",
    "\n",
    "# Adicionei números invalidos ao pagamento para testar a função isna()\n",
    "# print(df.loc[df['paid'].isna()])\n",
    "\n",
    "# Filtrando os dados para ver os pagantes de forma decrescente\n",
    "# print(df_na.sort_values(by='paid', ascending=False))\n",
    "\n",
    "# Exibindo a média dos pagamentos\n",
    "# print(f\"O pagamento médio foi de R${df_na['paid'].mean():.2f}\")\n",
    "\n",
    "# Exibindo a quantidade de pagantes por estado\n",
    "# print(df_na.value_counts('state'))\n",
    "\n",
    "# Exibindo os pagantes do estado do Rio Grande do Sul por ordem decrescente\n",
    "print(df_na.query('state == \"RS\"').sort_values(by='paid', ascending=False))\n",
    "\n",
    "# Exibindo a quantidade de pagantes por gênero do estado do Rio Grande do Sul \n",
    "# print(df_na.query('state == \"RS\"').value_counts('gender'))\n"
   ]
  }
 ],
 "metadata": {
  "kernelspec": {
   "display_name": "Python 3 (ipykernel)",
   "language": "python",
   "name": "python3"
  },
  "language_info": {
   "codemirror_mode": {
    "name": "ipython",
    "version": 3
   },
   "file_extension": ".py",
   "mimetype": "text/x-python",
   "name": "python",
   "nbconvert_exporter": "python",
   "pygments_lexer": "ipython3",
   "version": "3.9.12"
  }
 },
 "nbformat": 4,
 "nbformat_minor": 5
}
